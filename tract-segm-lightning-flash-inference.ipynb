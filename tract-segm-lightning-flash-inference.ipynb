{
 "cells": [
  {
   "cell_type": "markdown",
   "id": "896e64cd",
   "metadata": {
    "papermill": {
     "duration": 0.014616,
     "end_time": "2022-04-30T03:22:43.959475",
     "exception": false,
     "start_time": "2022-04-30T03:22:43.944859",
     "status": "completed"
    },
    "tags": []
   },
   "source": [
    "# Inferece for segmentation with Lightning⚡Flash\n",
    "\n",
    "**This is just inference for this training notebook: https://www.kaggle.com/code/jirkaborovec/tract-segm-eda-flash-deeplab-albumentatio**\n",
    "\n",
    "See also: [Easy Kaggle Offline Submission With Chaining Kernel Notebooks](https://towardsdatascience.com/easy-kaggle-offline-submission-with-chaining-kernels-30bba5ea5c4d)"
   ]
  },
  {
   "cell_type": "markdown",
   "id": "c94f62bc",
   "metadata": {
    "papermill": {
     "duration": 0.012863,
     "end_time": "2022-04-30T03:22:43.986011",
     "exception": false,
     "start_time": "2022-04-30T03:22:43.973148",
     "status": "completed"
    },
    "tags": []
   },
   "source": [
    "## Install dependencies"
   ]
  },
  {
   "cell_type": "code",
   "execution_count": 1,
   "id": "6bed5c65",
   "metadata": {
    "_kg_hide-input": true,
    "_kg_hide-output": true,
    "execution": {
     "iopub.execute_input": "2022-04-30T03:22:44.032785Z",
     "iopub.status.busy": "2022-04-30T03:22:44.032007Z",
     "iopub.status.idle": "2022-04-30T03:24:02.065735Z",
     "shell.execute_reply": "2022-04-30T03:24:02.064903Z",
     "shell.execute_reply.started": "2022-04-29T16:07:56.729616Z"
    },
    "papermill": {
     "duration": 78.067022,
     "end_time": "2022-04-30T03:24:02.065933",
     "exception": false,
     "start_time": "2022-04-30T03:22:43.998911",
     "status": "completed"
    },
    "tags": []
   },
   "outputs": [
    {
     "name": "stdout",
     "output_type": "stream",
     "text": [
      "Found existing installation: torchtext 0.10.1\r\n",
      "Uninstalling torchtext-0.10.1:\r\n",
      "  Successfully uninstalled torchtext-0.10.1\r\n",
      "\u001b[33mWARNING: Running pip as the 'root' user can result in broken permissions and conflicting behaviour with the system package manager. It is recommended to use a virtual environment instead: https://pip.pypa.io/warnings/venv\u001b[0m\r\n",
      "\u001b[33mWARNING: Running pip as the 'root' user can result in broken permissions and conflicting behaviour with the system package manager. It is recommended to use a virtual environment instead: https://pip.pypa.io/warnings/venv\u001b[0m\r\n",
      "\u001b[33mWARNING: Running pip as the 'root' user can result in broken permissions and conflicting behaviour with the system package manager. It is recommended to use a virtual environment instead: https://pip.pypa.io/warnings/venv\u001b[0m\r\n",
      "\u001b[33mWARNING: Running pip as the 'root' user can result in broken permissions and conflicting behaviour with the system package manager. It is recommended to use a virtual environment instead: https://pip.pypa.io/warnings/venv\u001b[0m\r\n",
      "efficientnet-pytorch                  0.6.3\r\n",
      "pytorch-ignite                        0.4.8\r\n",
      "pytorch-lightning                     1.5.10\r\n",
      "segmentation-models-pytorch           0.2.1\r\n",
      "torch                                 1.9.1\r\n",
      "torchaudio                            0.9.1\r\n",
      "torchmetrics                          0.6.2\r\n",
      "torchvision                           0.10.1\r\n",
      "lightning-bolts                       0.5.0\r\n",
      "lightning-flash                       0.7.3\r\n",
      "pytorch-lightning                     1.5.10\r\n",
      "GPU 0: Tesla P100-PCIE-16GB (UUID: GPU-3a7cc727-0116-4b4f-056e-ff9639c20dc6)\r\n"
     ]
    }
   ],
   "source": [
    "!pip uninstall -y torchtext\n",
    "# !pip install -q --upgrade torch torchvision\n",
    "!pip install -q \"lightning-flash[image]\" \"torchmetrics<0.8\" --no-index --find-links ../input/demo-flash-semantic-segmentation/frozen_packages\n",
    "!pip install -q -U timm segmentation-models-pytorch --no-index --find-links ../input/demo-flash-semantic-segmentation/frozen_packages\n",
    "!pip install -q 'kaggle-imsegm' --no-index --find-links ../input/tract-segm-eda-3d-interactive-viewer/frozen_packages\n",
    "\n",
    "! pip list | grep torch\n",
    "! pip list | grep lightning\n",
    "! nvidia-smi -L"
   ]
  },
  {
   "cell_type": "code",
   "execution_count": 2,
   "id": "69d28099",
   "metadata": {
    "_cell_guid": "b1076dfc-b9ad-4769-8c92-a6c4dae69d19",
    "_kg_hide-input": true,
    "_uuid": "8f2839f25d086af736a60e9eeb907d3b93b6e0e5",
    "execution": {
     "iopub.execute_input": "2022-04-30T03:24:02.106763Z",
     "iopub.status.busy": "2022-04-30T03:24:02.106052Z",
     "iopub.status.idle": "2022-04-30T03:24:02.720139Z",
     "shell.execute_reply": "2022-04-30T03:24:02.719363Z",
     "shell.execute_reply.started": "2022-04-29T16:09:15.905222Z"
    },
    "papermill": {
     "duration": 0.637455,
     "end_time": "2022-04-30T03:24:02.720319",
     "exception": false,
     "start_time": "2022-04-30T03:24:02.082864",
     "status": "completed"
    },
    "tags": []
   },
   "outputs": [
    {
     "data": {
      "text/html": [
       "<div>\n",
       "<style scoped>\n",
       "    .dataframe tbody tr th:only-of-type {\n",
       "        vertical-align: middle;\n",
       "    }\n",
       "\n",
       "    .dataframe tbody tr th {\n",
       "        vertical-align: top;\n",
       "    }\n",
       "\n",
       "    .dataframe thead th {\n",
       "        text-align: right;\n",
       "    }\n",
       "</style>\n",
       "<table border=\"1\" class=\"dataframe\">\n",
       "  <thead>\n",
       "    <tr style=\"text-align: right;\">\n",
       "      <th></th>\n",
       "      <th>id</th>\n",
       "      <th>class</th>\n",
       "      <th>segmentation</th>\n",
       "    </tr>\n",
       "  </thead>\n",
       "  <tbody>\n",
       "    <tr>\n",
       "      <th>0</th>\n",
       "      <td>case123_day20_slice_0001</td>\n",
       "      <td>large_bowel</td>\n",
       "      <td>NaN</td>\n",
       "    </tr>\n",
       "    <tr>\n",
       "      <th>1</th>\n",
       "      <td>case123_day20_slice_0001</td>\n",
       "      <td>small_bowel</td>\n",
       "      <td>NaN</td>\n",
       "    </tr>\n",
       "    <tr>\n",
       "      <th>2</th>\n",
       "      <td>case123_day20_slice_0001</td>\n",
       "      <td>stomach</td>\n",
       "      <td>NaN</td>\n",
       "    </tr>\n",
       "    <tr>\n",
       "      <th>3</th>\n",
       "      <td>case123_day20_slice_0002</td>\n",
       "      <td>large_bowel</td>\n",
       "      <td>NaN</td>\n",
       "    </tr>\n",
       "    <tr>\n",
       "      <th>4</th>\n",
       "      <td>case123_day20_slice_0002</td>\n",
       "      <td>small_bowel</td>\n",
       "      <td>NaN</td>\n",
       "    </tr>\n",
       "  </tbody>\n",
       "</table>\n",
       "</div>"
      ],
      "text/plain": [
       "                         id        class segmentation\n",
       "0  case123_day20_slice_0001  large_bowel          NaN\n",
       "1  case123_day20_slice_0001  small_bowel          NaN\n",
       "2  case123_day20_slice_0001      stomach          NaN\n",
       "3  case123_day20_slice_0002  large_bowel          NaN\n",
       "4  case123_day20_slice_0002  small_bowel          NaN"
      ]
     },
     "metadata": {},
     "output_type": "display_data"
    },
    {
     "name": "stdout",
     "output_type": "stream",
     "text": [
      "['large_bowel', 'small_bowel', 'stomach']\n"
     ]
    }
   ],
   "source": [
    "import os, glob\n",
    "import pandas as pd\n",
    "import matplotlib.pyplot as plt\n",
    "\n",
    "DATASET_FOLDER = \"/kaggle/input/uw-madison-gi-tract-image-segmentation\"\n",
    "DATASET_IMAGES = \"/kaggle/temp/dataset-flash/images\"\n",
    "\n",
    "df_train = pd.read_csv(os.path.join(DATASET_FOLDER, \"train.csv\"))\n",
    "display(df_train.head())\n",
    "\n",
    "LABELS = sorted(df_train[\"class\"].unique())\n",
    "print(LABELS)"
   ]
  },
  {
   "cell_type": "markdown",
   "id": "a3b96efd",
   "metadata": {
    "papermill": {
     "duration": 0.028954,
     "end_time": "2022-04-30T03:24:02.778688",
     "exception": false,
     "start_time": "2022-04-30T03:24:02.749734",
     "status": "completed"
    },
    "tags": []
   },
   "source": [
    "## Reuse augmentation and Trainer..."
   ]
  },
  {
   "cell_type": "code",
   "execution_count": 3,
   "id": "d73a5374",
   "metadata": {
    "_kg_hide-input": true,
    "execution": {
     "iopub.execute_input": "2022-04-30T03:24:02.844375Z",
     "iopub.status.busy": "2022-04-30T03:24:02.843621Z",
     "iopub.status.idle": "2022-04-30T03:24:14.503991Z",
     "shell.execute_reply": "2022-04-30T03:24:14.503424Z",
     "shell.execute_reply.started": "2022-04-29T16:09:16.626963Z"
    },
    "papermill": {
     "duration": 11.696851,
     "end_time": "2022-04-30T03:24:14.504146",
     "exception": false,
     "start_time": "2022-04-30T03:24:02.807295",
     "status": "completed"
    },
    "tags": []
   },
   "outputs": [],
   "source": [
    "import torch\n",
    "\n",
    "import flash\n",
    "from flash.core.data.utils import download_data\n",
    "from flash.image import SemanticSegmentation, SemanticSegmentationData"
   ]
  },
  {
   "cell_type": "code",
   "execution_count": 4,
   "id": "bb005ca8",
   "metadata": {
    "_kg_hide-input": true,
    "execution": {
     "iopub.execute_input": "2022-04-30T03:24:14.549967Z",
     "iopub.status.busy": "2022-04-30T03:24:14.549242Z",
     "iopub.status.idle": "2022-04-30T03:24:14.556763Z",
     "shell.execute_reply": "2022-04-30T03:24:14.556336Z",
     "shell.execute_reply.started": "2022-04-29T16:09:28.512448Z"
    },
    "papermill": {
     "duration": 0.034694,
     "end_time": "2022-04-30T03:24:14.556882",
     "exception": false,
     "start_time": "2022-04-30T03:24:14.522188",
     "status": "completed"
    },
    "tags": []
   },
   "outputs": [],
   "source": [
    "from dataclasses import dataclass\n",
    "from typing import Any, Callable, Dict, Mapping, Sequence, Tuple, Union\n",
    "import albumentations as alb\n",
    "from flash.core.data.io.input_transform import InputTransform\n",
    "from flash.image.segmentation.input_transform import prepare_target, remove_extra_dimensions\n",
    "from kaggle_imsegm.augment import FlashAlbumentationsAdapter\n",
    "\n",
    "@dataclass\n",
    "class SemanticSegmentationInputTransform(InputTransform):\n",
    "    # https://albumentations.ai/docs/examples/pytorch_semantic_segmentation\n",
    "\n",
    "    image_size: Tuple[int, int] = (128, 128)\n",
    "\n",
    "    def train_per_sample_transform(self) -> Callable:\n",
    "        return FlashAlbumentationsAdapter([\n",
    "            alb.Resize(*self.image_size),\n",
    "            alb.VerticalFlip(p=0.5),\n",
    "            alb.HorizontalFlip(p=0.5),\n",
    "            alb.RandomRotate90(p=0.5),\n",
    "            alb.ShiftScaleRotate(shift_limit=0.1, scale_limit=0.05, rotate_limit=15, p=0.5),\n",
    "            alb.GaussNoise(var_limit=(0.00, 0.03), mean=0, per_channel=False, p=1.0),\n",
    "            #alb.ElasticTransform(p=1, alpha=120, sigma=120 * 0.05, alpha_affine=120 * 0.03)\n",
    "            #alb.RGBShift(r_shift_limit=25, g_shift_limit=25, b_shift_limit=25, p=0.5),\n",
    "            #alb.RandomBrightnessContrast(brightness_limit=0.3, contrast_limit=0.3, p=0.5),\n",
    "        ])\n",
    "\n",
    "    def per_sample_transform(self) -> Callable:\n",
    "        return FlashAlbumentationsAdapter([alb.Resize(*self.image_size)])\n",
    "\n",
    "    def predict_input_per_sample_transform(self) -> Callable:\n",
    "        return FlashAlbumentationsAdapter([alb.Resize(*self.image_size)])\n",
    "\n",
    "    def target_per_batch_transform(self) -> Callable:\n",
    "        return prepare_target\n",
    "\n",
    "    def predict_per_batch_transform(self) -> Callable:\n",
    "        return remove_extra_dimensions\n",
    "\n",
    "    def serve_per_batch_transform(self) -> Callable:\n",
    "        return remove_extra_dimensions"
   ]
  },
  {
   "cell_type": "code",
   "execution_count": 5,
   "id": "fb5860c8",
   "metadata": {
    "execution": {
     "iopub.execute_input": "2022-04-30T03:24:14.648460Z",
     "iopub.status.busy": "2022-04-30T03:24:14.647765Z",
     "iopub.status.idle": "2022-04-30T03:24:14.657019Z",
     "shell.execute_reply": "2022-04-30T03:24:14.656241Z",
     "shell.execute_reply.started": "2022-04-29T16:09:28.531562Z"
    },
    "papermill": {
     "duration": 0.082444,
     "end_time": "2022-04-30T03:24:14.657142",
     "exception": false,
     "start_time": "2022-04-30T03:24:14.574698",
     "status": "completed"
    },
    "tags": []
   },
   "outputs": [],
   "source": [
    "trainer = flash.Trainer(gpus=torch.cuda.device_count())"
   ]
  },
  {
   "cell_type": "code",
   "execution_count": 6,
   "id": "04b21a8e",
   "metadata": {
    "execution": {
     "iopub.execute_input": "2022-04-30T03:24:14.696827Z",
     "iopub.status.busy": "2022-04-30T03:24:14.696129Z",
     "iopub.status.idle": "2022-04-30T03:24:20.315005Z",
     "shell.execute_reply": "2022-04-30T03:24:20.315419Z",
     "shell.execute_reply.started": "2022-04-29T16:09:28.617029Z"
    },
    "papermill": {
     "duration": 5.641047,
     "end_time": "2022-04-30T03:24:20.315601",
     "exception": false,
     "start_time": "2022-04-30T03:24:14.674554",
     "status": "completed"
    },
    "tags": []
   },
   "outputs": [
    {
     "name": "stdout",
     "output_type": "stream",
     "text": [
      "-rw-r--r-- 1 nobody nogroup 469840399 Apr 30 03:22 ../input/tract-segm-eda-flash-deeplab-albumentatio/semantic_segmentation_model.pt\r\n"
     ]
    }
   ],
   "source": [
    "!ls -l ../input/tract-segm-eda-flash-deeplab-albumentatio/*.pt\n",
    "\n",
    "model = SemanticSegmentation.load_from_checkpoint(\n",
    "    \"../input/tract-segm-eda-flash-deeplab-albumentatio/semantic_segmentation_model.pt\"\n",
    ")"
   ]
  },
  {
   "cell_type": "markdown",
   "id": "7f4ba6ca",
   "metadata": {
    "papermill": {
     "duration": 0.019853,
     "end_time": "2022-04-30T03:24:20.353606",
     "exception": false,
     "start_time": "2022-04-30T03:24:20.333753",
     "status": "completed"
    },
    "tags": []
   },
   "source": [
    "## Parse sample submissison"
   ]
  },
  {
   "cell_type": "code",
   "execution_count": 7,
   "id": "533b537b",
   "metadata": {
    "execution": {
     "iopub.execute_input": "2022-04-30T03:24:20.395127Z",
     "iopub.status.busy": "2022-04-30T03:24:20.392271Z",
     "iopub.status.idle": "2022-04-30T03:24:20.467857Z",
     "shell.execute_reply": "2022-04-30T03:24:20.467391Z",
     "shell.execute_reply.started": "2022-04-29T16:09:34.295803Z"
    },
    "papermill": {
     "duration": 0.096559,
     "end_time": "2022-04-30T03:24:20.467975",
     "exception": false,
     "start_time": "2022-04-30T03:24:20.371416",
     "status": "completed"
    },
    "tags": []
   },
   "outputs": [
    {
     "data": {
      "text/html": [
       "<div>\n",
       "<style scoped>\n",
       "    .dataframe tbody tr th:only-of-type {\n",
       "        vertical-align: middle;\n",
       "    }\n",
       "\n",
       "    .dataframe tbody tr th {\n",
       "        vertical-align: top;\n",
       "    }\n",
       "\n",
       "    .dataframe thead th {\n",
       "        text-align: right;\n",
       "    }\n",
       "</style>\n",
       "<table border=\"1\" class=\"dataframe\">\n",
       "  <thead>\n",
       "    <tr style=\"text-align: right;\">\n",
       "      <th></th>\n",
       "      <th>id</th>\n",
       "      <th>class</th>\n",
       "      <th>predicted</th>\n",
       "    </tr>\n",
       "  </thead>\n",
       "  <tbody>\n",
       "  </tbody>\n",
       "</table>\n",
       "</div>"
      ],
      "text/plain": [
       "Empty DataFrame\n",
       "Columns: [id, class, predicted]\n",
       "Index: []"
      ]
     },
     "metadata": {},
     "output_type": "display_data"
    }
   ],
   "source": [
    "df_pred = pd.read_csv(os.path.join(DATASET_FOLDER, \"sample_submission.csv\"))\n",
    "sfolder = \"test\"\n",
    "display(df_pred.head())\n",
    "\n",
    "if df_pred.empty:\n",
    "    sfolder = \"train\"\n",
    "    df_pred = df_train[df_train[\"id\"].str.startswith(\"case123_day\")]\n",
    "\n",
    "os.makedirs(os.path.join(DATASET_IMAGES, sfolder), exist_ok=True)"
   ]
  },
  {
   "cell_type": "code",
   "execution_count": 8,
   "id": "080056cf",
   "metadata": {
    "_kg_hide-input": true,
    "execution": {
     "iopub.execute_input": "2022-04-30T03:24:20.511420Z",
     "iopub.status.busy": "2022-04-30T03:24:20.510240Z",
     "iopub.status.idle": "2022-04-30T03:24:22.040833Z",
     "shell.execute_reply": "2022-04-30T03:24:22.041319Z",
     "shell.execute_reply.started": "2022-04-29T16:09:34.615595Z"
    },
    "papermill": {
     "duration": 1.554806,
     "end_time": "2022-04-30T03:24:22.041504",
     "exception": false,
     "start_time": "2022-04-30T03:24:20.486698",
     "status": "completed"
    },
    "tags": []
   },
   "outputs": [
    {
     "name": "stdout",
     "output_type": "stream",
     "text": [
      "{'Case': 123,\n",
      " 'Day': 20,\n",
      " 'Slice': '0001',\n",
      " 'height': 266,\n",
      " 'image': 'slice_0001_266_266_1.50_1.50.png',\n",
      " 'image_path': 'train/case123/case123_day20/scans/slice_0001_266_266_1.50_1.50.png',\n",
      " 'width': 266}\n"
     ]
    },
    {
     "name": "stderr",
     "output_type": "stream",
     "text": [
      "/opt/conda/lib/python3.7/site-packages/pandas/core/frame.py:3641: SettingWithCopyWarning: \n",
      "A value is trying to be set on a copy of a slice from a DataFrame.\n",
      "Try using .loc[row_indexer,col_indexer] = value instead\n",
      "\n",
      "See the caveats in the documentation: https://pandas.pydata.org/pandas-docs/stable/user_guide/indexing.html#returning-a-view-versus-a-copy\n",
      "  self[k1] = value[k2]\n",
      "/opt/conda/lib/python3.7/site-packages/ipykernel_launcher.py:9: SettingWithCopyWarning: \n",
      "A value is trying to be set on a copy of a slice from a DataFrame.\n",
      "Try using .loc[row_indexer,col_indexer] = value instead\n",
      "\n",
      "See the caveats in the documentation: https://pandas.pydata.org/pandas-docs/stable/user_guide/indexing.html#returning-a-view-versus-a-copy\n",
      "  if __name__ == '__main__':\n"
     ]
    },
    {
     "data": {
      "text/html": [
       "<div>\n",
       "<style scoped>\n",
       "    .dataframe tbody tr th:only-of-type {\n",
       "        vertical-align: middle;\n",
       "    }\n",
       "\n",
       "    .dataframe tbody tr th {\n",
       "        vertical-align: top;\n",
       "    }\n",
       "\n",
       "    .dataframe thead th {\n",
       "        text-align: right;\n",
       "    }\n",
       "</style>\n",
       "<table border=\"1\" class=\"dataframe\">\n",
       "  <thead>\n",
       "    <tr style=\"text-align: right;\">\n",
       "      <th></th>\n",
       "      <th>id</th>\n",
       "      <th>class</th>\n",
       "      <th>segmentation</th>\n",
       "      <th>Case</th>\n",
       "      <th>Day</th>\n",
       "      <th>Slice</th>\n",
       "      <th>image</th>\n",
       "      <th>image_path</th>\n",
       "      <th>height</th>\n",
       "      <th>width</th>\n",
       "      <th>Case_Day</th>\n",
       "    </tr>\n",
       "  </thead>\n",
       "  <tbody>\n",
       "    <tr>\n",
       "      <th>0</th>\n",
       "      <td>case123_day20_slice_0001</td>\n",
       "      <td>large_bowel</td>\n",
       "      <td>NaN</td>\n",
       "      <td>123</td>\n",
       "      <td>20</td>\n",
       "      <td>0001</td>\n",
       "      <td>slice_0001_266_266_1.50_1.50.png</td>\n",
       "      <td>train/case123/case123_day20/scans/slice_0001_2...</td>\n",
       "      <td>266</td>\n",
       "      <td>266</td>\n",
       "      <td>case123_day20</td>\n",
       "    </tr>\n",
       "    <tr>\n",
       "      <th>1</th>\n",
       "      <td>case123_day20_slice_0001</td>\n",
       "      <td>small_bowel</td>\n",
       "      <td>NaN</td>\n",
       "      <td>123</td>\n",
       "      <td>20</td>\n",
       "      <td>0001</td>\n",
       "      <td>slice_0001_266_266_1.50_1.50.png</td>\n",
       "      <td>train/case123/case123_day20/scans/slice_0001_2...</td>\n",
       "      <td>266</td>\n",
       "      <td>266</td>\n",
       "      <td>case123_day20</td>\n",
       "    </tr>\n",
       "    <tr>\n",
       "      <th>2</th>\n",
       "      <td>case123_day20_slice_0001</td>\n",
       "      <td>stomach</td>\n",
       "      <td>NaN</td>\n",
       "      <td>123</td>\n",
       "      <td>20</td>\n",
       "      <td>0001</td>\n",
       "      <td>slice_0001_266_266_1.50_1.50.png</td>\n",
       "      <td>train/case123/case123_day20/scans/slice_0001_2...</td>\n",
       "      <td>266</td>\n",
       "      <td>266</td>\n",
       "      <td>case123_day20</td>\n",
       "    </tr>\n",
       "    <tr>\n",
       "      <th>3</th>\n",
       "      <td>case123_day20_slice_0002</td>\n",
       "      <td>large_bowel</td>\n",
       "      <td>NaN</td>\n",
       "      <td>123</td>\n",
       "      <td>20</td>\n",
       "      <td>0002</td>\n",
       "      <td>slice_0002_266_266_1.50_1.50.png</td>\n",
       "      <td>train/case123/case123_day20/scans/slice_0002_2...</td>\n",
       "      <td>266</td>\n",
       "      <td>266</td>\n",
       "      <td>case123_day20</td>\n",
       "    </tr>\n",
       "    <tr>\n",
       "      <th>4</th>\n",
       "      <td>case123_day20_slice_0002</td>\n",
       "      <td>small_bowel</td>\n",
       "      <td>NaN</td>\n",
       "      <td>123</td>\n",
       "      <td>20</td>\n",
       "      <td>0002</td>\n",
       "      <td>slice_0002_266_266_1.50_1.50.png</td>\n",
       "      <td>train/case123/case123_day20/scans/slice_0002_2...</td>\n",
       "      <td>266</td>\n",
       "      <td>266</td>\n",
       "      <td>case123_day20</td>\n",
       "    </tr>\n",
       "  </tbody>\n",
       "</table>\n",
       "</div>"
      ],
      "text/plain": [
       "                         id        class segmentation  Case  Day Slice  \\\n",
       "0  case123_day20_slice_0001  large_bowel          NaN   123   20  0001   \n",
       "1  case123_day20_slice_0001  small_bowel          NaN   123   20  0001   \n",
       "2  case123_day20_slice_0001      stomach          NaN   123   20  0001   \n",
       "3  case123_day20_slice_0002  large_bowel          NaN   123   20  0002   \n",
       "4  case123_day20_slice_0002  small_bowel          NaN   123   20  0002   \n",
       "\n",
       "                              image  \\\n",
       "0  slice_0001_266_266_1.50_1.50.png   \n",
       "1  slice_0001_266_266_1.50_1.50.png   \n",
       "2  slice_0001_266_266_1.50_1.50.png   \n",
       "3  slice_0002_266_266_1.50_1.50.png   \n",
       "4  slice_0002_266_266_1.50_1.50.png   \n",
       "\n",
       "                                          image_path  height  width  \\\n",
       "0  train/case123/case123_day20/scans/slice_0001_2...     266    266   \n",
       "1  train/case123/case123_day20/scans/slice_0001_2...     266    266   \n",
       "2  train/case123/case123_day20/scans/slice_0001_2...     266    266   \n",
       "3  train/case123/case123_day20/scans/slice_0002_2...     266    266   \n",
       "4  train/case123/case123_day20/scans/slice_0002_2...     266    266   \n",
       "\n",
       "        Case_Day  \n",
       "0  case123_day20  \n",
       "1  case123_day20  \n",
       "2  case123_day20  \n",
       "3  case123_day20  \n",
       "4  case123_day20  "
      ]
     },
     "metadata": {},
     "output_type": "display_data"
    }
   ],
   "source": [
    "from pprint import pprint\n",
    "from kaggle_imsegm.data import extract_tract_details\n",
    "\n",
    "pprint(extract_tract_details(df_pred['id'].iloc[0], DATASET_FOLDER, folder=sfolder))\n",
    "\n",
    "df_pred[['Case','Day','Slice', 'image', 'image_path', 'height', 'width']] = df_pred['id'].apply(\n",
    "    lambda x: pd.Series(extract_tract_details(x, DATASET_FOLDER, folder=sfolder))\n",
    ")\n",
    "df_pred[\"Case_Day\"] = [f\"case{r['Case']}_day{r['Day']}\" for _, r in df_pred.iterrows()]\n",
    "display(df_pred.head())"
   ]
  },
  {
   "cell_type": "markdown",
   "id": "d9b261f4",
   "metadata": {
    "papermill": {
     "duration": 0.01984,
     "end_time": "2022-04-30T03:24:22.081791",
     "exception": false,
     "start_time": "2022-04-30T03:24:22.061951",
     "status": "completed"
    },
    "tags": []
   },
   "source": [
    "## Predictions for test scans"
   ]
  },
  {
   "cell_type": "code",
   "execution_count": 9,
   "id": "8c314cb3",
   "metadata": {
    "execution": {
     "iopub.execute_input": "2022-04-30T03:24:22.127895Z",
     "iopub.status.busy": "2022-04-30T03:24:22.126611Z",
     "iopub.status.idle": "2022-04-30T03:24:36.834623Z",
     "shell.execute_reply": "2022-04-30T03:24:36.833756Z"
    },
    "papermill": {
     "duration": 14.733373,
     "end_time": "2022-04-30T03:24:36.834801",
     "exception": false,
     "start_time": "2022-04-30T03:24:22.101428",
     "status": "completed"
    },
    "tags": []
   },
   "outputs": [],
   "source": [
    "from joblib import Parallel, delayed\n",
    "from kaggle_imsegm.data import preprocess_tract_scan\n",
    "\n",
    "_args = dict(\n",
    "    dir_data=os.path.join(DATASET_FOLDER, sfolder),\n",
    "    dir_imgs=DATASET_IMAGES,\n",
    "    dir_segm=None,\n",
    "    labels=LABELS,\n",
    "    sfolder=sfolder,\n",
    ")\n",
    "test_scans = Parallel(n_jobs=6)(\n",
    "    delayed(preprocess_tract_scan)(dfg, **_args)\n",
    "    for _, dfg in df_pred.groupby(\"Case_Day\")\n",
    ")"
   ]
  },
  {
   "cell_type": "code",
   "execution_count": 10,
   "id": "84770afa",
   "metadata": {
    "_kg_hide-output": true,
    "execution": {
     "iopub.execute_input": "2022-04-30T03:24:36.934300Z",
     "iopub.status.busy": "2022-04-30T03:24:36.933463Z",
     "iopub.status.idle": "2022-04-30T03:26:56.792390Z",
     "shell.execute_reply": "2022-04-30T03:26:56.791317Z",
     "shell.execute_reply.started": "2022-04-29T16:09:36.149204Z"
    },
    "papermill": {
     "duration": 139.905415,
     "end_time": "2022-04-30T03:26:56.792551",
     "exception": false,
     "start_time": "2022-04-30T03:24:36.887136",
     "status": "completed"
    },
    "tags": []
   },
   "outputs": [
    {
     "name": "stderr",
     "output_type": "stream",
     "text": [
      "/opt/conda/lib/python3.7/site-packages/torch/utils/data/dataloader.py:481: UserWarning: This DataLoader will create 3 worker processes in total. Our suggested max number of worker in current system is 2, which is smaller than what this DataLoader is going to create. Please be aware that excessive worker creation might get DataLoader running slow or even freeze, lower the worker number to avoid potential slowness/freeze if necessary.\n",
      "  cpuset_checked))\n"
     ]
    },
    {
     "data": {
      "application/vnd.jupyter.widget-view+json": {
       "model_id": "59b1947bd6464b9d9aa6a0e188116b01",
       "version_major": 2,
       "version_minor": 0
      },
      "text/plain": [
       "Predicting: 0it [00:00, ?it/s]"
      ]
     },
     "metadata": {},
     "output_type": "display_data"
    },
    {
     "name": "stderr",
     "output_type": "stream",
     "text": [
      "/opt/conda/lib/python3.7/site-packages/torch/nn/functional.py:3613: UserWarning: Default upsampling behavior when mode=bilinear is changed to align_corners=False since 0.4.0. Please specify align_corners=True if the old behavior is desired. See the documentation of nn.Upsample for details.\n",
      "  \"See the documentation of nn.Upsample for details.\".format(mode)\n"
     ]
    },
    {
     "data": {
      "application/vnd.jupyter.widget-view+json": {
       "model_id": "fe7ba08c10804506aeb9cb0d0d4b8c32",
       "version_major": 2,
       "version_minor": 0
      },
      "text/plain": [
       "Predicting: 0it [00:00, ?it/s]"
      ]
     },
     "metadata": {},
     "output_type": "display_data"
    },
    {
     "data": {
      "application/vnd.jupyter.widget-view+json": {
       "model_id": "451d4af0656846dbb8d44a76612b45ac",
       "version_major": 2,
       "version_minor": 0
      },
      "text/plain": [
       "Predicting: 0it [00:00, ?it/s]"
      ]
     },
     "metadata": {},
     "output_type": "display_data"
    },
    {
     "data": {
      "text/html": [
       "<div>\n",
       "<style scoped>\n",
       "    .dataframe tbody tr th:only-of-type {\n",
       "        vertical-align: middle;\n",
       "    }\n",
       "\n",
       "    .dataframe tbody tr th {\n",
       "        vertical-align: top;\n",
       "    }\n",
       "\n",
       "    .dataframe thead th {\n",
       "        text-align: right;\n",
       "    }\n",
       "</style>\n",
       "<table border=\"1\" class=\"dataframe\">\n",
       "  <thead>\n",
       "    <tr style=\"text-align: right;\">\n",
       "      <th></th>\n",
       "      <th>id</th>\n",
       "      <th>class</th>\n",
       "      <th>predicted</th>\n",
       "    </tr>\n",
       "  </thead>\n",
       "  <tbody>\n",
       "    <tr>\n",
       "      <th>149</th>\n",
       "      <td>case123_day0_slice_0050</td>\n",
       "      <td>stomach</td>\n",
       "      <td>30760 2 31025 3 31290 5 31555 6 31821 6 32086 ...</td>\n",
       "    </tr>\n",
       "    <tr>\n",
       "      <th>152</th>\n",
       "      <td>case123_day0_slice_0051</td>\n",
       "      <td>stomach</td>\n",
       "      <td>27834 1 28092 10 28358 11 28623 12 28888 14 29...</td>\n",
       "    </tr>\n",
       "    <tr>\n",
       "      <th>155</th>\n",
       "      <td>case123_day0_slice_0052</td>\n",
       "      <td>stomach</td>\n",
       "      <td>26238 1 26500 6 26763 10 27028 11 27293 12 275...</td>\n",
       "    </tr>\n",
       "    <tr>\n",
       "      <th>158</th>\n",
       "      <td>case123_day0_slice_0053</td>\n",
       "      <td>stomach</td>\n",
       "      <td>25440 2 25704 5 25968 7 26232 10 26497 11 2676...</td>\n",
       "    </tr>\n",
       "    <tr>\n",
       "      <th>161</th>\n",
       "      <td>case123_day0_slice_0054</td>\n",
       "      <td>stomach</td>\n",
       "      <td>22780 2 23046 2 23311 3 23576 5 23841 6 24106 ...</td>\n",
       "    </tr>\n",
       "  </tbody>\n",
       "</table>\n",
       "</div>"
      ],
      "text/plain": [
       "                          id    class  \\\n",
       "149  case123_day0_slice_0050  stomach   \n",
       "152  case123_day0_slice_0051  stomach   \n",
       "155  case123_day0_slice_0052  stomach   \n",
       "158  case123_day0_slice_0053  stomach   \n",
       "161  case123_day0_slice_0054  stomach   \n",
       "\n",
       "                                             predicted  \n",
       "149  30760 2 31025 3 31290 5 31555 6 31821 6 32086 ...  \n",
       "152  27834 1 28092 10 28358 11 28623 12 28888 14 29...  \n",
       "155  26238 1 26500 6 26763 10 27028 11 27293 12 275...  \n",
       "158  25440 2 25704 5 25968 7 26232 10 26497 11 2676...  \n",
       "161  22780 2 23046 2 23311 3 23576 5 23841 6 24106 ...  "
      ]
     },
     "metadata": {},
     "output_type": "display_data"
    }
   ],
   "source": [
    "import numpy as np\n",
    "from itertools import chain\n",
    "from kaggle_imsegm.mask import rle_encode\n",
    "\n",
    "preds = []\n",
    "for test_imgs in test_scans:\n",
    "    dm = SemanticSegmentationData.from_files(\n",
    "        predict_files=test_imgs,\n",
    "        predict_transform=SemanticSegmentationInputTransform,\n",
    "        transform_kwargs=dict(image_size=(256, 256)),\n",
    "        num_classes=len(LABELS) + 1,\n",
    "        batch_size=10,\n",
    "        num_workers=3,\n",
    "    )\n",
    "    pred = trainer.predict(model, datamodule=dm, output=\"labels\")\n",
    "    pred = list(chain(*pred))\n",
    "    for img, seg in zip(test_imgs, pred):\n",
    "        rle = rle_encode(np.array(seg)) if np.sum(seg) > 1 else {}\n",
    "        name, _ = os.path.splitext(os.path.basename(img))\n",
    "        id_ = \"_\".join(name.split(\"_\")[:4])\n",
    "        preds += [{\"id\": id_, \"class\": lb, \"predicted\": rle.get(i + 1, \"\")} for i, lb in enumerate(LABELS)]\n",
    "\n",
    "df_pred = pd.DataFrame(preds)\n",
    "display(df_pred[df_pred[\"predicted\"] != \"\"].head())"
   ]
  },
  {
   "cell_type": "markdown",
   "id": "f48f27eb",
   "metadata": {
    "papermill": {
     "duration": 0.023635,
     "end_time": "2022-04-30T03:26:56.838580",
     "exception": false,
     "start_time": "2022-04-30T03:26:56.814945",
     "status": "completed"
    },
    "tags": []
   },
   "source": [
    "## Finalize submissions"
   ]
  },
  {
   "cell_type": "code",
   "execution_count": 11,
   "id": "9c9e1b27",
   "metadata": {
    "execution": {
     "iopub.execute_input": "2022-04-30T03:26:56.900831Z",
     "iopub.status.busy": "2022-04-30T03:26:56.900195Z",
     "iopub.status.idle": "2022-04-30T03:26:57.635857Z",
     "shell.execute_reply": "2022-04-30T03:26:57.635235Z",
     "shell.execute_reply.started": "2022-04-29T16:12:12.004859Z"
    },
    "papermill": {
     "duration": 0.76938,
     "end_time": "2022-04-30T03:26:57.635986",
     "exception": false,
     "start_time": "2022-04-30T03:26:56.866606",
     "status": "completed"
    },
    "tags": []
   },
   "outputs": [
    {
     "name": "stdout",
     "output_type": "stream",
     "text": [
      "id,class,predicted\r\n"
     ]
    }
   ],
   "source": [
    "df_ssub = pd.read_csv(os.path.join(DATASET_FOLDER, \"sample_submission.csv\"))\n",
    "del df_ssub['predicted']\n",
    "df_pred = df_ssub.merge(df_pred, on=['id','class'])\n",
    "\n",
    "df_pred[['id', 'class', 'predicted']].to_csv(\"submission.csv\", index=False)\n",
    "\n",
    "!head submission.csv"
   ]
  }
 ],
 "metadata": {
  "kernelspec": {
   "display_name": "Python 3",
   "language": "python",
   "name": "python3"
  },
  "language_info": {
   "codemirror_mode": {
    "name": "ipython",
    "version": 3
   },
   "file_extension": ".py",
   "mimetype": "text/x-python",
   "name": "python",
   "nbconvert_exporter": "python",
   "pygments_lexer": "ipython3",
   "version": "3.7.12"
  },
  "papermill": {
   "default_parameters": {},
   "duration": 265.360844,
   "end_time": "2022-04-30T03:27:01.240108",
   "environment_variables": {},
   "exception": null,
   "input_path": "__notebook__.ipynb",
   "output_path": "__notebook__.ipynb",
   "parameters": {},
   "start_time": "2022-04-30T03:22:35.879264",
   "version": "2.3.3"
  },
  "widgets": {
   "application/vnd.jupyter.widget-state+json": {
    "state": {
     "098ccbea885145d28d4088b3db788798": {
      "model_module": "@jupyter-widgets/controls",
      "model_module_version": "1.5.0",
      "model_name": "FloatProgressModel",
      "state": {
       "_dom_classes": [],
       "_model_module": "@jupyter-widgets/controls",
       "_model_module_version": "1.5.0",
       "_model_name": "FloatProgressModel",
       "_view_count": null,
       "_view_module": "@jupyter-widgets/controls",
       "_view_module_version": "1.5.0",
       "_view_name": "ProgressView",
       "bar_style": "success",
       "description": "",
       "description_tooltip": null,
       "layout": "IPY_MODEL_23423461b79b4e75a0a09e3c4153dfb5",
       "max": 1.0,
       "min": 0.0,
       "orientation": "horizontal",
       "style": "IPY_MODEL_8fe8be6ad8f84eaa83a257ac5cab4b63",
       "value": 1.0
      }
     },
     "1d65e559b6864fd5a55248d6ae412ce4": {
      "model_module": "@jupyter-widgets/controls",
      "model_module_version": "1.5.0",
      "model_name": "DescriptionStyleModel",
      "state": {
       "_model_module": "@jupyter-widgets/controls",
       "_model_module_version": "1.5.0",
       "_model_name": "DescriptionStyleModel",
       "_view_count": null,
       "_view_module": "@jupyter-widgets/base",
       "_view_module_version": "1.2.0",
       "_view_name": "StyleView",
       "description_width": ""
      }
     },
     "23423461b79b4e75a0a09e3c4153dfb5": {
      "model_module": "@jupyter-widgets/base",
      "model_module_version": "1.2.0",
      "model_name": "LayoutModel",
      "state": {
       "_model_module": "@jupyter-widgets/base",
       "_model_module_version": "1.2.0",
       "_model_name": "LayoutModel",
       "_view_count": null,
       "_view_module": "@jupyter-widgets/base",
       "_view_module_version": "1.2.0",
       "_view_name": "LayoutView",
       "align_content": null,
       "align_items": null,
       "align_self": null,
       "border": null,
       "bottom": null,
       "display": null,
       "flex": "2",
       "flex_flow": null,
       "grid_area": null,
       "grid_auto_columns": null,
       "grid_auto_flow": null,
       "grid_auto_rows": null,
       "grid_column": null,
       "grid_gap": null,
       "grid_row": null,
       "grid_template_areas": null,
       "grid_template_columns": null,
       "grid_template_rows": null,
       "height": null,
       "justify_content": null,
       "justify_items": null,
       "left": null,
       "margin": null,
       "max_height": null,
       "max_width": null,
       "min_height": null,
       "min_width": null,
       "object_fit": null,
       "object_position": null,
       "order": null,
       "overflow": null,
       "overflow_x": null,
       "overflow_y": null,
       "padding": null,
       "right": null,
       "top": null,
       "visibility": null,
       "width": null
      }
     },
     "272a5ef882c14b918ba1e92b0e1040fd": {
      "model_module": "@jupyter-widgets/controls",
      "model_module_version": "1.5.0",
      "model_name": "HTMLModel",
      "state": {
       "_dom_classes": [],
       "_model_module": "@jupyter-widgets/controls",
       "_model_module_version": "1.5.0",
       "_model_name": "HTMLModel",
       "_view_count": null,
       "_view_module": "@jupyter-widgets/controls",
       "_view_module_version": "1.5.0",
       "_view_name": "HTMLView",
       "description": "",
       "description_tooltip": null,
       "layout": "IPY_MODEL_4177dc645dc9415cbca9ce214c4a2b5f",
       "placeholder": "​",
       "style": "IPY_MODEL_ab226f05e8954d608463f08c0c0e3fdb",
       "value": "Predicting: 100%"
      }
     },
     "28606eedacd14f7db13d4f1e2245da0d": {
      "model_module": "@jupyter-widgets/base",
      "model_module_version": "1.2.0",
      "model_name": "LayoutModel",
      "state": {
       "_model_module": "@jupyter-widgets/base",
       "_model_module_version": "1.2.0",
       "_model_name": "LayoutModel",
       "_view_count": null,
       "_view_module": "@jupyter-widgets/base",
       "_view_module_version": "1.2.0",
       "_view_name": "LayoutView",
       "align_content": null,
       "align_items": null,
       "align_self": null,
       "border": null,
       "bottom": null,
       "display": null,
       "flex": "2",
       "flex_flow": null,
       "grid_area": null,
       "grid_auto_columns": null,
       "grid_auto_flow": null,
       "grid_auto_rows": null,
       "grid_column": null,
       "grid_gap": null,
       "grid_row": null,
       "grid_template_areas": null,
       "grid_template_columns": null,
       "grid_template_rows": null,
       "height": null,
       "justify_content": null,
       "justify_items": null,
       "left": null,
       "margin": null,
       "max_height": null,
       "max_width": null,
       "min_height": null,
       "min_width": null,
       "object_fit": null,
       "object_position": null,
       "order": null,
       "overflow": null,
       "overflow_x": null,
       "overflow_y": null,
       "padding": null,
       "right": null,
       "top": null,
       "visibility": null,
       "width": null
      }
     },
     "35a8132a87c042eb832c088fab2c305f": {
      "model_module": "@jupyter-widgets/base",
      "model_module_version": "1.2.0",
      "model_name": "LayoutModel",
      "state": {
       "_model_module": "@jupyter-widgets/base",
       "_model_module_version": "1.2.0",
       "_model_name": "LayoutModel",
       "_view_count": null,
       "_view_module": "@jupyter-widgets/base",
       "_view_module_version": "1.2.0",
       "_view_name": "LayoutView",
       "align_content": null,
       "align_items": null,
       "align_self": null,
       "border": null,
       "bottom": null,
       "display": "inline-flex",
       "flex": null,
       "flex_flow": "row wrap",
       "grid_area": null,
       "grid_auto_columns": null,
       "grid_auto_flow": null,
       "grid_auto_rows": null,
       "grid_column": null,
       "grid_gap": null,
       "grid_row": null,
       "grid_template_areas": null,
       "grid_template_columns": null,
       "grid_template_rows": null,
       "height": null,
       "justify_content": null,
       "justify_items": null,
       "left": null,
       "margin": null,
       "max_height": null,
       "max_width": null,
       "min_height": null,
       "min_width": null,
       "object_fit": null,
       "object_position": null,
       "order": null,
       "overflow": null,
       "overflow_x": null,
       "overflow_y": null,
       "padding": null,
       "right": null,
       "top": null,
       "visibility": null,
       "width": "100%"
      }
     },
     "390419c87478461db5442012d7a80877": {
      "model_module": "@jupyter-widgets/base",
      "model_module_version": "1.2.0",
      "model_name": "LayoutModel",
      "state": {
       "_model_module": "@jupyter-widgets/base",
       "_model_module_version": "1.2.0",
       "_model_name": "LayoutModel",
       "_view_count": null,
       "_view_module": "@jupyter-widgets/base",
       "_view_module_version": "1.2.0",
       "_view_name": "LayoutView",
       "align_content": null,
       "align_items": null,
       "align_self": null,
       "border": null,
       "bottom": null,
       "display": null,
       "flex": null,
       "flex_flow": null,
       "grid_area": null,
       "grid_auto_columns": null,
       "grid_auto_flow": null,
       "grid_auto_rows": null,
       "grid_column": null,
       "grid_gap": null,
       "grid_row": null,
       "grid_template_areas": null,
       "grid_template_columns": null,
       "grid_template_rows": null,
       "height": null,
       "justify_content": null,
       "justify_items": null,
       "left": null,
       "margin": null,
       "max_height": null,
       "max_width": null,
       "min_height": null,
       "min_width": null,
       "object_fit": null,
       "object_position": null,
       "order": null,
       "overflow": null,
       "overflow_x": null,
       "overflow_y": null,
       "padding": null,
       "right": null,
       "top": null,
       "visibility": null,
       "width": null
      }
     },
     "4177dc645dc9415cbca9ce214c4a2b5f": {
      "model_module": "@jupyter-widgets/base",
      "model_module_version": "1.2.0",
      "model_name": "LayoutModel",
      "state": {
       "_model_module": "@jupyter-widgets/base",
       "_model_module_version": "1.2.0",
       "_model_name": "LayoutModel",
       "_view_count": null,
       "_view_module": "@jupyter-widgets/base",
       "_view_module_version": "1.2.0",
       "_view_name": "LayoutView",
       "align_content": null,
       "align_items": null,
       "align_self": null,
       "border": null,
       "bottom": null,
       "display": null,
       "flex": null,
       "flex_flow": null,
       "grid_area": null,
       "grid_auto_columns": null,
       "grid_auto_flow": null,
       "grid_auto_rows": null,
       "grid_column": null,
       "grid_gap": null,
       "grid_row": null,
       "grid_template_areas": null,
       "grid_template_columns": null,
       "grid_template_rows": null,
       "height": null,
       "justify_content": null,
       "justify_items": null,
       "left": null,
       "margin": null,
       "max_height": null,
       "max_width": null,
       "min_height": null,
       "min_width": null,
       "object_fit": null,
       "object_position": null,
       "order": null,
       "overflow": null,
       "overflow_x": null,
       "overflow_y": null,
       "padding": null,
       "right": null,
       "top": null,
       "visibility": null,
       "width": null
      }
     },
     "451d4af0656846dbb8d44a76612b45ac": {
      "model_module": "@jupyter-widgets/controls",
      "model_module_version": "1.5.0",
      "model_name": "HBoxModel",
      "state": {
       "_dom_classes": [],
       "_model_module": "@jupyter-widgets/controls",
       "_model_module_version": "1.5.0",
       "_model_name": "HBoxModel",
       "_view_count": null,
       "_view_module": "@jupyter-widgets/controls",
       "_view_module_version": "1.5.0",
       "_view_name": "HBoxView",
       "box_style": "",
       "children": [
        "IPY_MODEL_272a5ef882c14b918ba1e92b0e1040fd",
        "IPY_MODEL_098ccbea885145d28d4088b3db788798",
        "IPY_MODEL_a7ec32d8797546ac9e35c7889ffd539d"
       ],
       "layout": "IPY_MODEL_35a8132a87c042eb832c088fab2c305f"
      }
     },
     "59b1947bd6464b9d9aa6a0e188116b01": {
      "model_module": "@jupyter-widgets/controls",
      "model_module_version": "1.5.0",
      "model_name": "HBoxModel",
      "state": {
       "_dom_classes": [],
       "_model_module": "@jupyter-widgets/controls",
       "_model_module_version": "1.5.0",
       "_model_name": "HBoxModel",
       "_view_count": null,
       "_view_module": "@jupyter-widgets/controls",
       "_view_module_version": "1.5.0",
       "_view_name": "HBoxView",
       "box_style": "",
       "children": [
        "IPY_MODEL_d84e53e789234cd48d5988829d3966ab",
        "IPY_MODEL_c1de141afab34e35bca4dd9b3b0abf11",
        "IPY_MODEL_c83df59413154b5390ffda26cde6c360"
       ],
       "layout": "IPY_MODEL_6d69b5ba2cab465a80605e0aaa110ddb"
      }
     },
     "5f6140ed69fc4c7d8620e252e7f0d80f": {
      "model_module": "@jupyter-widgets/controls",
      "model_module_version": "1.5.0",
      "model_name": "FloatProgressModel",
      "state": {
       "_dom_classes": [],
       "_model_module": "@jupyter-widgets/controls",
       "_model_module_version": "1.5.0",
       "_model_name": "FloatProgressModel",
       "_view_count": null,
       "_view_module": "@jupyter-widgets/controls",
       "_view_module_version": "1.5.0",
       "_view_name": "ProgressView",
       "bar_style": "success",
       "description": "",
       "description_tooltip": null,
       "layout": "IPY_MODEL_28606eedacd14f7db13d4f1e2245da0d",
       "max": 1.0,
       "min": 0.0,
       "orientation": "horizontal",
       "style": "IPY_MODEL_bc55a074b4614f0984a2058d448f8d99",
       "value": 1.0
      }
     },
     "64eea0e2378c4721857b0458d17bb631": {
      "model_module": "@jupyter-widgets/controls",
      "model_module_version": "1.5.0",
      "model_name": "ProgressStyleModel",
      "state": {
       "_model_module": "@jupyter-widgets/controls",
       "_model_module_version": "1.5.0",
       "_model_name": "ProgressStyleModel",
       "_view_count": null,
       "_view_module": "@jupyter-widgets/base",
       "_view_module_version": "1.2.0",
       "_view_name": "StyleView",
       "bar_color": null,
       "description_width": ""
      }
     },
     "6721446698cc4bcfb09627c6a367d5d4": {
      "model_module": "@jupyter-widgets/controls",
      "model_module_version": "1.5.0",
      "model_name": "HTMLModel",
      "state": {
       "_dom_classes": [],
       "_model_module": "@jupyter-widgets/controls",
       "_model_module_version": "1.5.0",
       "_model_name": "HTMLModel",
       "_view_count": null,
       "_view_module": "@jupyter-widgets/controls",
       "_view_module_version": "1.5.0",
       "_view_name": "HTMLView",
       "description": "",
       "description_tooltip": null,
       "layout": "IPY_MODEL_abfb69d0201d4bd493385b296eb6b957",
       "placeholder": "​",
       "style": "IPY_MODEL_1d65e559b6864fd5a55248d6ae412ce4",
       "value": "Predicting: 100%"
      }
     },
     "6d69b5ba2cab465a80605e0aaa110ddb": {
      "model_module": "@jupyter-widgets/base",
      "model_module_version": "1.2.0",
      "model_name": "LayoutModel",
      "state": {
       "_model_module": "@jupyter-widgets/base",
       "_model_module_version": "1.2.0",
       "_model_name": "LayoutModel",
       "_view_count": null,
       "_view_module": "@jupyter-widgets/base",
       "_view_module_version": "1.2.0",
       "_view_name": "LayoutView",
       "align_content": null,
       "align_items": null,
       "align_self": null,
       "border": null,
       "bottom": null,
       "display": "inline-flex",
       "flex": null,
       "flex_flow": "row wrap",
       "grid_area": null,
       "grid_auto_columns": null,
       "grid_auto_flow": null,
       "grid_auto_rows": null,
       "grid_column": null,
       "grid_gap": null,
       "grid_row": null,
       "grid_template_areas": null,
       "grid_template_columns": null,
       "grid_template_rows": null,
       "height": null,
       "justify_content": null,
       "justify_items": null,
       "left": null,
       "margin": null,
       "max_height": null,
       "max_width": null,
       "min_height": null,
       "min_width": null,
       "object_fit": null,
       "object_position": null,
       "order": null,
       "overflow": null,
       "overflow_x": null,
       "overflow_y": null,
       "padding": null,
       "right": null,
       "top": null,
       "visibility": null,
       "width": "100%"
      }
     },
     "7d5f2ae154f1481080bc35cba5c08583": {
      "model_module": "@jupyter-widgets/base",
      "model_module_version": "1.2.0",
      "model_name": "LayoutModel",
      "state": {
       "_model_module": "@jupyter-widgets/base",
       "_model_module_version": "1.2.0",
       "_model_name": "LayoutModel",
       "_view_count": null,
       "_view_module": "@jupyter-widgets/base",
       "_view_module_version": "1.2.0",
       "_view_name": "LayoutView",
       "align_content": null,
       "align_items": null,
       "align_self": null,
       "border": null,
       "bottom": null,
       "display": "inline-flex",
       "flex": null,
       "flex_flow": "row wrap",
       "grid_area": null,
       "grid_auto_columns": null,
       "grid_auto_flow": null,
       "grid_auto_rows": null,
       "grid_column": null,
       "grid_gap": null,
       "grid_row": null,
       "grid_template_areas": null,
       "grid_template_columns": null,
       "grid_template_rows": null,
       "height": null,
       "justify_content": null,
       "justify_items": null,
       "left": null,
       "margin": null,
       "max_height": null,
       "max_width": null,
       "min_height": null,
       "min_width": null,
       "object_fit": null,
       "object_position": null,
       "order": null,
       "overflow": null,
       "overflow_x": null,
       "overflow_y": null,
       "padding": null,
       "right": null,
       "top": null,
       "visibility": null,
       "width": "100%"
      }
     },
     "84cccd713c57484bbb7823f21f66d639": {
      "model_module": "@jupyter-widgets/base",
      "model_module_version": "1.2.0",
      "model_name": "LayoutModel",
      "state": {
       "_model_module": "@jupyter-widgets/base",
       "_model_module_version": "1.2.0",
       "_model_name": "LayoutModel",
       "_view_count": null,
       "_view_module": "@jupyter-widgets/base",
       "_view_module_version": "1.2.0",
       "_view_name": "LayoutView",
       "align_content": null,
       "align_items": null,
       "align_self": null,
       "border": null,
       "bottom": null,
       "display": null,
       "flex": null,
       "flex_flow": null,
       "grid_area": null,
       "grid_auto_columns": null,
       "grid_auto_flow": null,
       "grid_auto_rows": null,
       "grid_column": null,
       "grid_gap": null,
       "grid_row": null,
       "grid_template_areas": null,
       "grid_template_columns": null,
       "grid_template_rows": null,
       "height": null,
       "justify_content": null,
       "justify_items": null,
       "left": null,
       "margin": null,
       "max_height": null,
       "max_width": null,
       "min_height": null,
       "min_width": null,
       "object_fit": null,
       "object_position": null,
       "order": null,
       "overflow": null,
       "overflow_x": null,
       "overflow_y": null,
       "padding": null,
       "right": null,
       "top": null,
       "visibility": null,
       "width": null
      }
     },
     "8721741d6ab74ace9aed1fbb56be2302": {
      "model_module": "@jupyter-widgets/controls",
      "model_module_version": "1.5.0",
      "model_name": "DescriptionStyleModel",
      "state": {
       "_model_module": "@jupyter-widgets/controls",
       "_model_module_version": "1.5.0",
       "_model_name": "DescriptionStyleModel",
       "_view_count": null,
       "_view_module": "@jupyter-widgets/base",
       "_view_module_version": "1.2.0",
       "_view_name": "StyleView",
       "description_width": ""
      }
     },
     "8a689541f7654de592fff51d96dd60eb": {
      "model_module": "@jupyter-widgets/base",
      "model_module_version": "1.2.0",
      "model_name": "LayoutModel",
      "state": {
       "_model_module": "@jupyter-widgets/base",
       "_model_module_version": "1.2.0",
       "_model_name": "LayoutModel",
       "_view_count": null,
       "_view_module": "@jupyter-widgets/base",
       "_view_module_version": "1.2.0",
       "_view_name": "LayoutView",
       "align_content": null,
       "align_items": null,
       "align_self": null,
       "border": null,
       "bottom": null,
       "display": null,
       "flex": null,
       "flex_flow": null,
       "grid_area": null,
       "grid_auto_columns": null,
       "grid_auto_flow": null,
       "grid_auto_rows": null,
       "grid_column": null,
       "grid_gap": null,
       "grid_row": null,
       "grid_template_areas": null,
       "grid_template_columns": null,
       "grid_template_rows": null,
       "height": null,
       "justify_content": null,
       "justify_items": null,
       "left": null,
       "margin": null,
       "max_height": null,
       "max_width": null,
       "min_height": null,
       "min_width": null,
       "object_fit": null,
       "object_position": null,
       "order": null,
       "overflow": null,
       "overflow_x": null,
       "overflow_y": null,
       "padding": null,
       "right": null,
       "top": null,
       "visibility": null,
       "width": null
      }
     },
     "8fe8be6ad8f84eaa83a257ac5cab4b63": {
      "model_module": "@jupyter-widgets/controls",
      "model_module_version": "1.5.0",
      "model_name": "ProgressStyleModel",
      "state": {
       "_model_module": "@jupyter-widgets/controls",
       "_model_module_version": "1.5.0",
       "_model_name": "ProgressStyleModel",
       "_view_count": null,
       "_view_module": "@jupyter-widgets/base",
       "_view_module_version": "1.2.0",
       "_view_name": "StyleView",
       "bar_color": null,
       "description_width": ""
      }
     },
     "92a9013733e34f789d4b9c964e662e60": {
      "model_module": "@jupyter-widgets/controls",
      "model_module_version": "1.5.0",
      "model_name": "DescriptionStyleModel",
      "state": {
       "_model_module": "@jupyter-widgets/controls",
       "_model_module_version": "1.5.0",
       "_model_name": "DescriptionStyleModel",
       "_view_count": null,
       "_view_module": "@jupyter-widgets/base",
       "_view_module_version": "1.2.0",
       "_view_name": "StyleView",
       "description_width": ""
      }
     },
     "a4574256fcd245078fb1f5d3e9766653": {
      "model_module": "@jupyter-widgets/base",
      "model_module_version": "1.2.0",
      "model_name": "LayoutModel",
      "state": {
       "_model_module": "@jupyter-widgets/base",
       "_model_module_version": "1.2.0",
       "_model_name": "LayoutModel",
       "_view_count": null,
       "_view_module": "@jupyter-widgets/base",
       "_view_module_version": "1.2.0",
       "_view_name": "LayoutView",
       "align_content": null,
       "align_items": null,
       "align_self": null,
       "border": null,
       "bottom": null,
       "display": null,
       "flex": null,
       "flex_flow": null,
       "grid_area": null,
       "grid_auto_columns": null,
       "grid_auto_flow": null,
       "grid_auto_rows": null,
       "grid_column": null,
       "grid_gap": null,
       "grid_row": null,
       "grid_template_areas": null,
       "grid_template_columns": null,
       "grid_template_rows": null,
       "height": null,
       "justify_content": null,
       "justify_items": null,
       "left": null,
       "margin": null,
       "max_height": null,
       "max_width": null,
       "min_height": null,
       "min_width": null,
       "object_fit": null,
       "object_position": null,
       "order": null,
       "overflow": null,
       "overflow_x": null,
       "overflow_y": null,
       "padding": null,
       "right": null,
       "top": null,
       "visibility": null,
       "width": null
      }
     },
     "a7ec32d8797546ac9e35c7889ffd539d": {
      "model_module": "@jupyter-widgets/controls",
      "model_module_version": "1.5.0",
      "model_name": "HTMLModel",
      "state": {
       "_dom_classes": [],
       "_model_module": "@jupyter-widgets/controls",
       "_model_module_version": "1.5.0",
       "_model_name": "HTMLModel",
       "_view_count": null,
       "_view_module": "@jupyter-widgets/controls",
       "_view_module_version": "1.5.0",
       "_view_name": "HTMLView",
       "description": "",
       "description_tooltip": null,
       "layout": "IPY_MODEL_84cccd713c57484bbb7823f21f66d639",
       "placeholder": "​",
       "style": "IPY_MODEL_8721741d6ab74ace9aed1fbb56be2302",
       "value": " 15/15 [00:41&lt;00:00,  2.79s/it]"
      }
     },
     "ab226f05e8954d608463f08c0c0e3fdb": {
      "model_module": "@jupyter-widgets/controls",
      "model_module_version": "1.5.0",
      "model_name": "DescriptionStyleModel",
      "state": {
       "_model_module": "@jupyter-widgets/controls",
       "_model_module_version": "1.5.0",
       "_model_name": "DescriptionStyleModel",
       "_view_count": null,
       "_view_module": "@jupyter-widgets/base",
       "_view_module_version": "1.2.0",
       "_view_name": "StyleView",
       "description_width": ""
      }
     },
     "abfb69d0201d4bd493385b296eb6b957": {
      "model_module": "@jupyter-widgets/base",
      "model_module_version": "1.2.0",
      "model_name": "LayoutModel",
      "state": {
       "_model_module": "@jupyter-widgets/base",
       "_model_module_version": "1.2.0",
       "_model_name": "LayoutModel",
       "_view_count": null,
       "_view_module": "@jupyter-widgets/base",
       "_view_module_version": "1.2.0",
       "_view_name": "LayoutView",
       "align_content": null,
       "align_items": null,
       "align_self": null,
       "border": null,
       "bottom": null,
       "display": null,
       "flex": null,
       "flex_flow": null,
       "grid_area": null,
       "grid_auto_columns": null,
       "grid_auto_flow": null,
       "grid_auto_rows": null,
       "grid_column": null,
       "grid_gap": null,
       "grid_row": null,
       "grid_template_areas": null,
       "grid_template_columns": null,
       "grid_template_rows": null,
       "height": null,
       "justify_content": null,
       "justify_items": null,
       "left": null,
       "margin": null,
       "max_height": null,
       "max_width": null,
       "min_height": null,
       "min_width": null,
       "object_fit": null,
       "object_position": null,
       "order": null,
       "overflow": null,
       "overflow_x": null,
       "overflow_y": null,
       "padding": null,
       "right": null,
       "top": null,
       "visibility": null,
       "width": null
      }
     },
     "bc55a074b4614f0984a2058d448f8d99": {
      "model_module": "@jupyter-widgets/controls",
      "model_module_version": "1.5.0",
      "model_name": "ProgressStyleModel",
      "state": {
       "_model_module": "@jupyter-widgets/controls",
       "_model_module_version": "1.5.0",
       "_model_name": "ProgressStyleModel",
       "_view_count": null,
       "_view_module": "@jupyter-widgets/base",
       "_view_module_version": "1.2.0",
       "_view_name": "StyleView",
       "bar_color": null,
       "description_width": ""
      }
     },
     "c1de141afab34e35bca4dd9b3b0abf11": {
      "model_module": "@jupyter-widgets/controls",
      "model_module_version": "1.5.0",
      "model_name": "FloatProgressModel",
      "state": {
       "_dom_classes": [],
       "_model_module": "@jupyter-widgets/controls",
       "_model_module_version": "1.5.0",
       "_model_name": "FloatProgressModel",
       "_view_count": null,
       "_view_module": "@jupyter-widgets/controls",
       "_view_module_version": "1.5.0",
       "_view_name": "ProgressView",
       "bar_style": "success",
       "description": "",
       "description_tooltip": null,
       "layout": "IPY_MODEL_f9b0310a13304808a0b16e4676e3c64a",
       "max": 1.0,
       "min": 0.0,
       "orientation": "horizontal",
       "style": "IPY_MODEL_64eea0e2378c4721857b0458d17bb631",
       "value": 1.0
      }
     },
     "c63a4e83710c46f6b02a0ab7db225813": {
      "model_module": "@jupyter-widgets/controls",
      "model_module_version": "1.5.0",
      "model_name": "DescriptionStyleModel",
      "state": {
       "_model_module": "@jupyter-widgets/controls",
       "_model_module_version": "1.5.0",
       "_model_name": "DescriptionStyleModel",
       "_view_count": null,
       "_view_module": "@jupyter-widgets/base",
       "_view_module_version": "1.2.0",
       "_view_name": "StyleView",
       "description_width": ""
      }
     },
     "c71ae0f8d29e47409a71e9947ebf929e": {
      "model_module": "@jupyter-widgets/controls",
      "model_module_version": "1.5.0",
      "model_name": "HTMLModel",
      "state": {
       "_dom_classes": [],
       "_model_module": "@jupyter-widgets/controls",
       "_model_module_version": "1.5.0",
       "_model_name": "HTMLModel",
       "_view_count": null,
       "_view_module": "@jupyter-widgets/controls",
       "_view_module_version": "1.5.0",
       "_view_name": "HTMLView",
       "description": "",
       "description_tooltip": null,
       "layout": "IPY_MODEL_8a689541f7654de592fff51d96dd60eb",
       "placeholder": "​",
       "style": "IPY_MODEL_ee5cffadad28412b927bfc33b5cf8b50",
       "value": " 15/15 [00:41&lt;00:00,  2.79s/it]"
      }
     },
     "c83df59413154b5390ffda26cde6c360": {
      "model_module": "@jupyter-widgets/controls",
      "model_module_version": "1.5.0",
      "model_name": "HTMLModel",
      "state": {
       "_dom_classes": [],
       "_model_module": "@jupyter-widgets/controls",
       "_model_module_version": "1.5.0",
       "_model_name": "HTMLModel",
       "_view_count": null,
       "_view_module": "@jupyter-widgets/controls",
       "_view_module_version": "1.5.0",
       "_view_name": "HTMLView",
       "description": "",
       "description_tooltip": null,
       "layout": "IPY_MODEL_390419c87478461db5442012d7a80877",
       "placeholder": "​",
       "style": "IPY_MODEL_92a9013733e34f789d4b9c964e662e60",
       "value": " 15/15 [00:45&lt;00:00,  3.05s/it]"
      }
     },
     "d84e53e789234cd48d5988829d3966ab": {
      "model_module": "@jupyter-widgets/controls",
      "model_module_version": "1.5.0",
      "model_name": "HTMLModel",
      "state": {
       "_dom_classes": [],
       "_model_module": "@jupyter-widgets/controls",
       "_model_module_version": "1.5.0",
       "_model_name": "HTMLModel",
       "_view_count": null,
       "_view_module": "@jupyter-widgets/controls",
       "_view_module_version": "1.5.0",
       "_view_name": "HTMLView",
       "description": "",
       "description_tooltip": null,
       "layout": "IPY_MODEL_a4574256fcd245078fb1f5d3e9766653",
       "placeholder": "​",
       "style": "IPY_MODEL_c63a4e83710c46f6b02a0ab7db225813",
       "value": "Predicting: 100%"
      }
     },
     "ee5cffadad28412b927bfc33b5cf8b50": {
      "model_module": "@jupyter-widgets/controls",
      "model_module_version": "1.5.0",
      "model_name": "DescriptionStyleModel",
      "state": {
       "_model_module": "@jupyter-widgets/controls",
       "_model_module_version": "1.5.0",
       "_model_name": "DescriptionStyleModel",
       "_view_count": null,
       "_view_module": "@jupyter-widgets/base",
       "_view_module_version": "1.2.0",
       "_view_name": "StyleView",
       "description_width": ""
      }
     },
     "f9b0310a13304808a0b16e4676e3c64a": {
      "model_module": "@jupyter-widgets/base",
      "model_module_version": "1.2.0",
      "model_name": "LayoutModel",
      "state": {
       "_model_module": "@jupyter-widgets/base",
       "_model_module_version": "1.2.0",
       "_model_name": "LayoutModel",
       "_view_count": null,
       "_view_module": "@jupyter-widgets/base",
       "_view_module_version": "1.2.0",
       "_view_name": "LayoutView",
       "align_content": null,
       "align_items": null,
       "align_self": null,
       "border": null,
       "bottom": null,
       "display": null,
       "flex": "2",
       "flex_flow": null,
       "grid_area": null,
       "grid_auto_columns": null,
       "grid_auto_flow": null,
       "grid_auto_rows": null,
       "grid_column": null,
       "grid_gap": null,
       "grid_row": null,
       "grid_template_areas": null,
       "grid_template_columns": null,
       "grid_template_rows": null,
       "height": null,
       "justify_content": null,
       "justify_items": null,
       "left": null,
       "margin": null,
       "max_height": null,
       "max_width": null,
       "min_height": null,
       "min_width": null,
       "object_fit": null,
       "object_position": null,
       "order": null,
       "overflow": null,
       "overflow_x": null,
       "overflow_y": null,
       "padding": null,
       "right": null,
       "top": null,
       "visibility": null,
       "width": null
      }
     },
     "fe7ba08c10804506aeb9cb0d0d4b8c32": {
      "model_module": "@jupyter-widgets/controls",
      "model_module_version": "1.5.0",
      "model_name": "HBoxModel",
      "state": {
       "_dom_classes": [],
       "_model_module": "@jupyter-widgets/controls",
       "_model_module_version": "1.5.0",
       "_model_name": "HBoxModel",
       "_view_count": null,
       "_view_module": "@jupyter-widgets/controls",
       "_view_module_version": "1.5.0",
       "_view_name": "HBoxView",
       "box_style": "",
       "children": [
        "IPY_MODEL_6721446698cc4bcfb09627c6a367d5d4",
        "IPY_MODEL_5f6140ed69fc4c7d8620e252e7f0d80f",
        "IPY_MODEL_c71ae0f8d29e47409a71e9947ebf929e"
       ],
       "layout": "IPY_MODEL_7d5f2ae154f1481080bc35cba5c08583"
      }
     }
    },
    "version_major": 2,
    "version_minor": 0
   }
  }
 },
 "nbformat": 4,
 "nbformat_minor": 5
}
