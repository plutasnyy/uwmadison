{
 "cells": [
  {
   "cell_type": "code",
   "execution_count": 42,
   "metadata": {
    "collapsed": true,
    "pycharm": {
     "name": "#%%\n"
    }
   },
   "outputs": [
    {
     "name": "stdout",
     "output_type": "stream",
     "text": [
      "The autoreload extension is already loaded. To reload it, use:\n",
      "  %reload_ext autoreload\n"
     ]
    }
   ],
   "source": [
    "%load_ext autoreload\n",
    "%autoreload 2"
   ]
  },
  {
   "cell_type": "code",
   "execution_count": null,
   "outputs": [],
   "source": [
    "from src.data_processing.constants import (\n",
    "    KAGGLE_DATA_PATH,\n",
    "    KAGGLE_OUTPUT_DATA_PATH,\n",
    "    LOCAL_DATA_PATH,\n",
    "    LOCAL_OUTPUT_DATA_PATH,\n",
    ")\n",
    "\n",
    "IS_KAGGLE = False\n",
    "DATA_DIR = KAGGLE_DATA_PATH if IS_KAGGLE else LOCAL_DATA_PATH\n",
    "OUTPUT_DIR = KAGGLE_OUTPUT_DATA_PATH if IS_KAGGLE else LOCAL_OUTPUT_DATA_PATH"
   ],
   "metadata": {
    "collapsed": false,
    "pycharm": {
     "name": "#%%\n"
    }
   }
  },
  {
   "cell_type": "code",
   "execution_count": null,
   "outputs": [],
   "source": [
    "from src.data_processing.data_utils import prepare_df\n",
    "\n",
    "new_df = prepare_df(data_directory=DATA_DIR)\n",
    "new_df.head()"
   ],
   "metadata": {
    "collapsed": false,
    "pycharm": {
     "name": "#%%\n"
    }
   }
  },
  {
   "cell_type": "code",
   "execution_count": null,
   "outputs": [],
   "source": [],
   "metadata": {
    "collapsed": false,
    "pycharm": {
     "name": "#%%\n"
    }
   }
  },
  {
   "cell_type": "code",
   "execution_count": null,
   "outputs": [],
   "source": [
    "from src.data_processing.data_utils import load_img, id2mask, show_img\n",
    "from matplotlib import pyplot as plt\n",
    "\n",
    "row = 1\n",
    "col = 4\n",
    "plt.figure(figsize=(5 * col, 5 * row))\n",
    "random_slices_to_plot = (\n",
    "    new_df[~new_df.segmentation.isna()].sample(frac=1.0)[\"id\"].unique()[: row * col]\n",
    ")\n",
    "for i, id_ in enumerate(random_slices_to_plot):\n",
    "    img = load_img(new_df[new_df[\"id\"] == id_].image_path.iloc[0])\n",
    "    mask = id2mask(id_, df=new_df) * 255\n",
    "    plt.subplot(row, col, i + 1)\n",
    "    show_img(img, mask=mask)\n",
    "    plt.tight_layout()"
   ],
   "metadata": {
    "collapsed": false,
    "pycharm": {
     "name": "#%%\n"
    }
   }
  },
  {
   "cell_type": "code",
   "execution_count": null,
   "outputs": [],
   "source": [
    "from src.data_processing.data_utils import save_mask\n",
    "\n",
    "save_mask(id_=\"case123_day22_slice_0117\", df=new_df, save_dir=OUTPUT_DIR)"
   ],
   "metadata": {
    "collapsed": false,
    "pycharm": {
     "name": "#%%\n"
    }
   }
  },
  {
   "cell_type": "code",
   "execution_count": null,
   "outputs": [],
   "source": [
    "import numpy as np\n",
    "\n",
    "img = load_img(new_df[new_df[\"id\"] == \"case123_day22_slice_0117\"].iloc[0].image_path)\n",
    "mask_path = OUTPUT_DIR / \"np\" / \"case123_day22_slice_0117.npy\"\n",
    "print(mask_path)\n",
    "mask = np.load(str(mask_path))\n",
    "plt.figure(figsize=(5, 5))\n",
    "show_img(img, mask)"
   ],
   "metadata": {
    "collapsed": false,
    "pycharm": {
     "name": "#%%\n"
    }
   }
  },
  {
   "cell_type": "code",
   "execution_count": null,
   "outputs": [],
   "source": [
    "from tqdm import tqdm\n",
    "from joblib import delayed, Parallel\n",
    "\n",
    "ids = new_df[\"id\"].unique()\n",
    "_ = Parallel(n_jobs=-1, backend=\"threading\")(\n",
    "    delayed(save_mask)(id_) for id_ in tqdm(ids, total=len(ids))\n",
    ")"
   ],
   "metadata": {
    "collapsed": false,
    "pycharm": {
     "name": "#%%\n"
    }
   }
  },
  {
   "cell_type": "code",
   "execution_count": null,
   "outputs": [],
   "source": [
    "new_df[\"mask_path\"] = str(OUTPUT_DIR) + \"/png/\" + new_df.id + \".png\"\n",
    "new_df.to_csv(str(OUTPUT_DIR / \"train.csv\"), index=False)"
   ],
   "metadata": {
    "collapsed": false,
    "pycharm": {
     "name": "#%%\n"
    }
   }
  },
  {
   "cell_type": "code",
   "execution_count": null,
   "outputs": [],
   "source": [
    "import shutil\n",
    "\n",
    "if IS_KAGGLE:\n",
    "    shutil.make_archive(\n",
    "        \"/kaggle/working/png\",\n",
    "        \"zip\",\n",
    "        str(OUTPUT_DIR / \"png\"),\n",
    "        \"uw-madison-gi-tract-image-segmentation\",\n",
    "    )\n",
    "    shutil.make_archive(\n",
    "        \"/kaggle/working/np\",\n",
    "        \"zip\",\n",
    "        str(OUTPUT_DIR / \"np\"),\n",
    "        \"uw-madison-gi-tract-image-segmentation\",\n",
    "    )"
   ],
   "metadata": {
    "collapsed": false,
    "pycharm": {
     "name": "#%%\n"
    }
   }
  }
 ],
 "metadata": {
  "kernelspec": {
   "display_name": "Python 3",
   "language": "python",
   "name": "python3"
  },
  "language_info": {
   "codemirror_mode": {
    "name": "ipython",
    "version": 2
   },
   "file_extension": ".py",
   "mimetype": "text/x-python",
   "name": "python",
   "nbconvert_exporter": "python",
   "pygments_lexer": "ipython2",
   "version": "2.7.6"
  }
 },
 "nbformat": 4,
 "nbformat_minor": 0
}