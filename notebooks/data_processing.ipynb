{
 "metadata": {
  "kernelspec": {
   "language": "python",
   "display_name": "Python 3",
   "name": "python3"
  },
  "language_info": {
   "pygments_lexer": "ipython3",
   "nbconvert_exporter": "python",
   "version": "3.6.4",
   "file_extension": ".py",
   "codemirror_mode": {
    "name": "ipython",
    "version": 3
   },
   "name": "python",
   "mimetype": "text/x-python"
  }
 },
 "nbformat_minor": 4,
 "nbformat": 4,
 "cells": [
  {
   "cell_type": "code",
   "source": "%load_ext autoreload\n%autoreload 2",
   "metadata": {
    "pycharm": {
     "name": "#%%\n"
    },
    "execution": {
     "iopub.status.busy": "2022-05-05T14:14:58.939238Z",
     "iopub.execute_input": "2022-05-05T14:14:58.939581Z",
     "iopub.status.idle": "2022-05-05T14:14:58.978148Z",
     "shell.execute_reply.started": "2022-05-05T14:14:58.93954Z",
     "shell.execute_reply": "2022-05-05T14:14:58.977085Z"
    },
    "trusted": true
   },
   "execution_count": 54,
   "outputs": [
    {
     "name": "stdout",
     "output_type": "stream",
     "text": [
      "The autoreload extension is already loaded. To reload it, use:\n",
      "  %reload_ext autoreload\n"
     ]
    }
   ]
  },
  {
   "cell_type": "code",
   "execution_count": 55,
   "outputs": [],
   "source": [
    "# !git clone https://github.com/plutasnyy/uwmadison.git"
   ],
   "metadata": {
    "collapsed": false,
    "pycharm": {
     "name": "#%%\n"
    }
   }
  },
  {
   "cell_type": "code",
   "execution_count": 56,
   "outputs": [],
   "source": [
    "# import sys\n",
    "# sys.path.append('/kaggle/working/uwmadison')"
   ],
   "metadata": {
    "collapsed": false,
    "pycharm": {
     "name": "#%%\n"
    }
   }
  },
  {
   "cell_type": "code",
   "execution_count": 57,
   "outputs": [],
   "source": [
    "from src.data_processing.constants import (\n",
    "    KAGGLE_DATA_PATH,\n",
    "    KAGGLE_OUTPUT_DATA_PATH,\n",
    "    LOCAL_DATA_PATH,\n",
    "    LOCAL_OUTPUT_DATA_PATH,\n",
    ")\n",
    "\n",
    "IS_KAGGLE = False\n",
    "DATA_DIR = KAGGLE_DATA_PATH if IS_KAGGLE else LOCAL_DATA_PATH\n",
    "OUTPUT_DIR = KAGGLE_OUTPUT_DATA_PATH if IS_KAGGLE else LOCAL_OUTPUT_DATA_PATH"
   ],
   "metadata": {
    "collapsed": false,
    "pycharm": {
     "name": "#%%\n"
    }
   }
  },
  {
   "cell_type": "code",
   "execution_count": null,
   "outputs": [],
   "source": [
    "from src.data_processing.data_utils import prepare_df\n",
    "from tqdm import tqdm\n",
    "\n",
    "tqdm.pandas()\n",
    "\n",
    "new_df = prepare_df(data_directory=DATA_DIR)\n",
    "new_df.head()"
   ],
   "metadata": {
    "collapsed": false,
    "pycharm": {
     "name": "#%%\n"
    }
   }
  },
  {
   "cell_type": "code",
   "execution_count": null,
   "outputs": [],
   "source": [
    "from src.data_processing.data_utils import load_img, id2mask, show_img\n",
    "from matplotlib import pyplot as plt\n",
    "\n",
    "row = 1\n",
    "col = 4\n",
    "plt.figure(figsize=(5 * col, 5 * row))\n",
    "random_slices_to_plot = (\n",
    "    new_df[~new_df.segmentation.isna()].sample(frac=1.0)[\"id\"].unique()[: row * col]\n",
    ")\n",
    "for i, id_ in enumerate(random_slices_to_plot):\n",
    "    img = load_img(new_df[new_df[\"id\"] == id_].image_path.iloc[0])\n",
    "    mask = id2mask(id_, df=new_df) * 255\n",
    "    plt.subplot(row, col, i + 1)\n",
    "    show_img(img, mask=mask)\n",
    "    plt.tight_layout()"
   ],
   "metadata": {
    "collapsed": false,
    "pycharm": {
     "name": "#%%\n"
    }
   }
  },
  {
   "cell_type": "code",
   "execution_count": null,
   "outputs": [],
   "source": [
    "from src.data_processing.data_utils import save_mask\n",
    "\n",
    "save_mask(id_=\"case123_day22_slice_0117\", df=new_df, save_dir=OUTPUT_DIR)"
   ],
   "metadata": {
    "collapsed": false,
    "pycharm": {
     "name": "#%%\n"
    }
   }
  },
  {
   "cell_type": "code",
   "execution_count": null,
   "outputs": [],
   "source": [
    "import numpy as np\n",
    "\n",
    "img = load_img(new_df[new_df[\"id\"] == \"case123_day22_slice_0117\"].iloc[0].image_path)\n",
    "mask_path = OUTPUT_DIR / \"np\" / \"case123_day22_slice_0117.npy\"\n",
    "print(mask_path)\n",
    "mask = np.load(str(mask_path))\n",
    "plt.figure(figsize=(5, 5))\n",
    "show_img(img, mask)"
   ],
   "metadata": {
    "collapsed": false,
    "pycharm": {
     "name": "#%%\n"
    }
   }
  },
  {
   "cell_type": "code",
   "execution_count": null,
   "outputs": [],
   "source": [
    "ids = new_df[\"id\"].unique()\n",
    "save_mask(ids[5], new_df)"
   ],
   "metadata": {
    "collapsed": false,
    "pycharm": {
     "name": "#%%\n"
    }
   }
  },
  {
   "cell_type": "code",
   "execution_count": null,
   "outputs": [],
   "source": [
    "from tqdm import tqdm\n",
    "from joblib import delayed, Parallel\n",
    "\n",
    "ids = new_df[\"id\"].unique()\n",
    "_ = Parallel(n_jobs=-1, backend=\"threading\")(\n",
    "    delayed(save_mask)(id_, new_df, OUTPUT_DIR) for id_ in tqdm(ids, total=len(ids))\n",
    ")"
   ],
   "metadata": {
    "collapsed": false,
    "pycharm": {
     "name": "#%%\n"
    }
   }
  },
  {
   "cell_type": "code",
   "execution_count": null,
   "outputs": [],
   "source": [
    "new_df[\"mask_path_png\"] = str(OUTPUT_DIR) + \"/png/\" + new_df.id + \".png\"\n",
    "new_df[\"mask_path_np\"] = str(OUTPUT_DIR) + \"/np/\" + new_df.id + \".npy\""
   ],
   "metadata": {
    "collapsed": false,
    "pycharm": {
     "name": "#%%\n"
    }
   }
  },
  {
   "cell_type": "code",
   "execution_count": null,
   "outputs": [],
   "source": [
    "new_df.head()"
   ],
   "metadata": {
    "collapsed": false,
    "pycharm": {
     "name": "#%%\n"
    }
   }
  },
  {
   "cell_type": "code",
   "execution_count": null,
   "outputs": [],
   "source": [
    "new_df.to_csv(\"new_train\", index=False)"
   ],
   "metadata": {
    "collapsed": false,
    "pycharm": {
     "name": "#%%\n"
    }
   }
  },
  {
   "cell_type": "code",
   "execution_count": null,
   "outputs": [],
   "source": [
    "import shutil\n",
    "\n",
    "if IS_KAGGLE:\n",
    "    shutil.make_archive(\"/kaggle/working/png\", \"zip\", str(OUTPUT_DIR / \"png\"))"
   ],
   "metadata": {
    "collapsed": false,
    "pycharm": {
     "name": "#%%\n"
    }
   }
  },
  {
   "cell_type": "code",
   "execution_count": null,
   "outputs": [],
   "source": [
    "import shutil\n",
    "\n",
    "if IS_KAGGLE:\n",
    "    shutil.make_archive(\"/kaggle/working/np\", \"zip\", str(OUTPUT_DIR / \"np\"))"
   ],
   "metadata": {
    "collapsed": false,
    "pycharm": {
     "name": "#%%\n"
    }
   }
  },
  {
   "cell_type": "code",
   "execution_count": null,
   "outputs": [],
   "source": [
    "new_df[\"mask_path_png\"] = str(OUTPUT_DIR) + \"/png/\" + new_df.id + \".png\"\n",
    "new_df[\"mask_path_np\"] = str(OUTPUT_DIR) + \"/np/\" + new_df.id + \".npy\""
   ],
   "metadata": {
    "collapsed": false,
    "pycharm": {
     "name": "#%%\n"
    }
   }
  },
  {
   "cell_type": "code",
   "execution_count": null,
   "outputs": [],
   "source": [
    "new_df.head()"
   ],
   "metadata": {
    "collapsed": false,
    "pycharm": {
     "name": "#%%\n"
    }
   }
  },
  {
   "cell_type": "code",
   "execution_count": null,
   "outputs": [],
   "source": [
    "new_df.to_csv(\"new_train.csv\", index=False)"
   ],
   "metadata": {
    "collapsed": false,
    "pycharm": {
     "name": "#%%\n"
    }
   }
  },
  {
   "cell_type": "code",
   "execution_count": null,
   "outputs": [],
   "source": [
    "import shutil\n",
    "\n",
    "if IS_KAGGLE:\n",
    "    shutil.make_archive(\"/kaggle/working/png\", \"zip\", str(OUTPUT_DIR / \"png\"))"
   ],
   "metadata": {
    "collapsed": false,
    "pycharm": {
     "name": "#%%\n"
    }
   }
  },
  {
   "cell_type": "code",
   "execution_count": null,
   "outputs": [],
   "source": [
    "import shutil\n",
    "\n",
    "if IS_KAGGLE:\n",
    "    shutil.make_archive(\"/kaggle/working/np\", \"zip\", str(OUTPUT_DIR / \"np\"))"
   ],
   "metadata": {
    "collapsed": false,
    "pycharm": {
     "name": "#%%\n"
    }
   }
  },
  {
   "cell_type": "code",
   "execution_count": null,
   "outputs": [],
   "source": [
    "!mkdir uw-madison-gi-tract-image-segmentation"
   ],
   "metadata": {
    "collapsed": false,
    "pycharm": {
     "name": "#%%\n"
    }
   }
  },
  {
   "cell_type": "code",
   "execution_count": null,
   "outputs": [],
   "source": [
    "%cd /tmp"
   ],
   "metadata": {
    "collapsed": false,
    "pycharm": {
     "name": "#%%\n"
    }
   }
  },
  {
   "cell_type": "code",
   "execution_count": null,
   "outputs": [],
   "source": [
    "!ls"
   ],
   "metadata": {
    "collapsed": false,
    "pycharm": {
     "name": "#%%\n"
    }
   }
  },
  {
   "cell_type": "code",
   "execution_count": null,
   "outputs": [],
   "source": [
    "%cd data_processed"
   ],
   "metadata": {
    "collapsed": false,
    "pycharm": {
     "name": "#%%\n"
    }
   }
  },
  {
   "cell_type": "code",
   "execution_count": null,
   "outputs": [],
   "source": [
    "!ls"
   ],
   "metadata": {
    "collapsed": false,
    "pycharm": {
     "name": "#%%\n"
    }
   }
  },
  {
   "cell_type": "code",
   "execution_count": null,
   "outputs": [],
   "source": [
    "%cd png"
   ],
   "metadata": {
    "collapsed": false,
    "pycharm": {
     "name": "#%%\n"
    }
   }
  },
  {
   "cell_type": "code",
   "execution_count": null,
   "outputs": [],
   "source": [
    "!du -sh png.zip"
   ],
   "metadata": {
    "collapsed": false,
    "pycharm": {
     "name": "#%%\n"
    }
   }
  },
  {
   "cell_type": "code",
   "execution_count": null,
   "outputs": [],
   "source": [],
   "metadata": {
    "collapsed": false,
    "pycharm": {
     "name": "#%%\n"
    }
   }
  },
  {
   "cell_type": "markdown",
   "source": [],
   "metadata": {
    "collapsed": false,
    "pycharm": {
     "name": "#%% md\n"
    }
   }
  },
  {
   "cell_type": "code",
   "execution_count": null,
   "outputs": [],
   "source": [
    "%cd .."
   ],
   "metadata": {
    "collapsed": false,
    "pycharm": {
     "name": "#%%\n"
    }
   }
  },
  {
   "cell_type": "code",
   "execution_count": null,
   "outputs": [],
   "source": [
    "!du -sh np"
   ],
   "metadata": {
    "collapsed": false,
    "pycharm": {
     "name": "#%%\n"
    }
   }
  },
  {
   "cell_type": "code",
   "execution_count": null,
   "outputs": [],
   "source": [],
   "metadata": {
    "collapsed": false,
    "pycharm": {
     "name": "#%%\n"
    }
   }
  },
  {
   "cell_type": "code",
   "source": "new_df[\"mask_path_png\"] = str(OUTPUT_DIR) + \"/png/\" + new_df.id + \".png\"\nnew_df[\"mask_path_np\"] = str(OUTPUT_DIR) + \"/np/\" + new_df.id + \".npy\"",
   "metadata": {
    "collapsed": false,
    "pycharm": {
     "name": "#%%\n"
    },
    "jupyter": {
     "outputs_hidden": false
    },
    "execution": {
     "iopub.status.busy": "2022-05-05T15:03:15.046625Z",
     "iopub.execute_input": "2022-05-05T15:03:15.046895Z",
     "iopub.status.idle": "2022-05-05T15:03:15.220097Z",
     "shell.execute_reply.started": "2022-05-05T15:03:15.046865Z",
     "shell.execute_reply": "2022-05-05T15:03:15.219197Z"
    },
    "trusted": true
   },
   "execution_count": 21,
   "outputs": []
  },
  {
   "cell_type": "code",
   "source": "new_df.head()",
   "metadata": {
    "execution": {
     "iopub.status.busy": "2022-05-05T15:03:25.711379Z",
     "iopub.execute_input": "2022-05-05T15:03:25.711670Z",
     "iopub.status.idle": "2022-05-05T15:03:25.791374Z",
     "shell.execute_reply.started": "2022-05-05T15:03:25.711640Z",
     "shell.execute_reply": "2022-05-05T15:03:25.790338Z"
    },
    "trusted": true
   },
   "execution_count": 22,
   "outputs": []
  },
  {
   "cell_type": "code",
   "source": [
    "new_df.to_csv(\"new_train.csv\", index=False)"
   ],
   "metadata": {
    "execution": {
     "iopub.status.busy": "2022-05-05T15:10:57.765965Z",
     "iopub.execute_input": "2022-05-05T15:10:57.766352Z",
     "iopub.status.idle": "2022-05-05T15:11:00.347210Z",
     "shell.execute_reply.started": "2022-05-05T15:10:57.766299Z",
     "shell.execute_reply": "2022-05-05T15:11:00.346292Z"
    },
    "trusted": true
   },
   "execution_count": 28,
   "outputs": []
  },
  {
   "cell_type": "code",
   "source": [
    "import shutil\n",
    "\n",
    "if IS_KAGGLE:\n",
    "    shutil.make_archive(\"/kaggle/working/png\", \"zip\", str(OUTPUT_DIR / \"png\"))"
   ],
   "metadata": {
    "collapsed": false,
    "pycharm": {
     "name": "#%%\n"
    },
    "jupyter": {
     "outputs_hidden": false
    },
    "execution": {
     "iopub.status.busy": "2022-05-05T15:14:57.948739Z",
     "iopub.execute_input": "2022-05-05T15:14:57.949373Z",
     "iopub.status.idle": "2022-05-05T15:15:28.046499Z",
     "shell.execute_reply.started": "2022-05-05T15:14:57.949330Z",
     "shell.execute_reply": "2022-05-05T15:15:28.045684Z"
    },
    "trusted": true
   },
   "execution_count": 54,
   "outputs": []
  },
  {
   "cell_type": "code",
   "source": [
    "import shutil\n",
    "\n",
    "if IS_KAGGLE:\n",
    "    shutil.make_archive(\"/kaggle/working/np\", \"zip\", str(OUTPUT_DIR / \"np\"))"
   ],
   "metadata": {
    "execution": {
     "iopub.status.busy": "2022-05-05T15:16:44.847266Z",
     "iopub.execute_input": "2022-05-05T15:16:44.847558Z",
     "iopub.status.idle": "2022-05-05T15:18:52.733685Z",
     "shell.execute_reply.started": "2022-05-05T15:16:44.847526Z",
     "shell.execute_reply": "2022-05-05T15:18:52.732686Z"
    },
    "trusted": true
   },
   "execution_count": 63,
   "outputs": []
  },
  {
   "cell_type": "code",
   "source": "!mkdir uw-madison-gi-tract-image-segmentation",
   "metadata": {
    "execution": {
     "iopub.status.busy": "2022-05-05T15:06:33.688254Z",
     "iopub.execute_input": "2022-05-05T15:06:33.690434Z",
     "iopub.status.idle": "2022-05-05T15:06:34.517649Z",
     "shell.execute_reply.started": "2022-05-05T15:06:33.690379Z",
     "shell.execute_reply": "2022-05-05T15:06:34.516491Z"
    },
    "trusted": true
   },
   "execution_count": 25,
   "outputs": []
  },
  {
   "cell_type": "code",
   "source": "%cd /tmp",
   "metadata": {
    "execution": {
     "iopub.status.busy": "2022-05-05T15:11:49.366929Z",
     "iopub.execute_input": "2022-05-05T15:11:49.367314Z",
     "iopub.status.idle": "2022-05-05T15:11:49.430439Z",
     "shell.execute_reply.started": "2022-05-05T15:11:49.367266Z",
     "shell.execute_reply": "2022-05-05T15:11:49.429426Z"
    },
    "trusted": true
   },
   "execution_count": 29,
   "outputs": []
  },
  {
   "cell_type": "code",
   "source": "!ls",
   "metadata": {
    "execution": {
     "iopub.status.busy": "2022-05-05T15:11:52.245393Z",
     "iopub.execute_input": "2022-05-05T15:11:52.245856Z",
     "iopub.status.idle": "2022-05-05T15:11:53.060942Z",
     "shell.execute_reply.started": "2022-05-05T15:11:52.245824Z",
     "shell.execute_reply": "2022-05-05T15:11:53.060051Z"
    },
    "trusted": true
   },
   "execution_count": 30,
   "outputs": []
  },
  {
   "cell_type": "code",
   "source": "%cd data_processed",
   "metadata": {
    "execution": {
     "iopub.status.busy": "2022-05-05T15:12:04.806072Z",
     "iopub.execute_input": "2022-05-05T15:12:04.806563Z",
     "iopub.status.idle": "2022-05-05T15:12:04.872412Z",
     "shell.execute_reply.started": "2022-05-05T15:12:04.806517Z",
     "shell.execute_reply": "2022-05-05T15:12:04.871135Z"
    },
    "trusted": true
   },
   "execution_count": 31,
   "outputs": []
  },
  {
   "cell_type": "code",
   "source": "!ls",
   "metadata": {
    "execution": {
     "iopub.status.busy": "2022-05-05T15:12:08.246450Z",
     "iopub.execute_input": "2022-05-05T15:12:08.246976Z",
     "iopub.status.idle": "2022-05-05T15:12:09.086361Z",
     "shell.execute_reply.started": "2022-05-05T15:12:08.246926Z",
     "shell.execute_reply": "2022-05-05T15:12:09.085202Z"
    },
    "trusted": true
   },
   "execution_count": 32,
   "outputs": []
  },
  {
   "cell_type": "code",
   "source": "%cd png",
   "metadata": {
    "execution": {
     "iopub.status.busy": "2022-05-05T15:12:16.166579Z",
     "iopub.execute_input": "2022-05-05T15:12:16.166891Z",
     "iopub.status.idle": "2022-05-05T15:12:16.232393Z",
     "shell.execute_reply.started": "2022-05-05T15:12:16.166858Z",
     "shell.execute_reply": "2022-05-05T15:12:16.231328Z"
    },
    "trusted": true
   },
   "execution_count": 33,
   "outputs": []
  },
  {
   "cell_type": "code",
   "source": "!du -sh png.zip",
   "metadata": {
    "execution": {
     "iopub.status.busy": "2022-05-05T15:16:22.350591Z",
     "iopub.execute_input": "2022-05-05T15:16:22.350950Z",
     "iopub.status.idle": "2022-05-05T15:16:23.170331Z",
     "shell.execute_reply.started": "2022-05-05T15:16:22.350912Z",
     "shell.execute_reply": "2022-05-05T15:16:23.169197Z"
    },
    "trusted": true
   },
   "execution_count": 62,
   "outputs": []
  },
  {
   "cell_type": "code",
   "source": "",
   "metadata": {},
   "execution_count": null,
   "outputs": []
  },
  {
   "cell_type": "markdown",
   "source": "",
   "metadata": {}
  },
  {
   "cell_type": "code",
   "source": "%cd ..",
   "metadata": {
    "execution": {
     "iopub.status.busy": "2022-05-05T15:12:47.628272Z",
     "iopub.execute_input": "2022-05-05T15:12:47.629097Z",
     "iopub.status.idle": "2022-05-05T15:12:47.697439Z",
     "shell.execute_reply.started": "2022-05-05T15:12:47.629044Z",
     "shell.execute_reply": "2022-05-05T15:12:47.696618Z"
    },
    "trusted": true
   },
   "execution_count": 35,
   "outputs": []
  },
  {
   "cell_type": "code",
   "source": "!du -sh np",
   "metadata": {
    "execution": {
     "iopub.status.busy": "2022-05-05T15:13:07.024062Z",
     "iopub.execute_input": "2022-05-05T15:13:07.024408Z",
     "iopub.status.idle": "2022-05-05T15:13:08.027604Z",
     "shell.execute_reply.started": "2022-05-05T15:13:07.024372Z",
     "shell.execute_reply": "2022-05-05T15:13:08.026382Z"
    },
    "trusted": true
   },
   "execution_count": 38,
   "outputs": []
  },
  {
   "cell_type": "code",
   "source": "",
   "metadata": {},
   "execution_count": null,
   "outputs": []
  }
 ]
}