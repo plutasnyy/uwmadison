{
 "cells": [
  {
   "cell_type": "markdown",
   "id": "a841da67",
   "metadata": {
    "papermill": {
     "duration": 0.021947,
     "end_time": "2022-04-29T08:11:39.845877",
     "exception": false,
     "start_time": "2022-04-29T08:11:39.823930",
     "status": "completed"
    },
    "tags": []
   },
   "source": [
    "# EDA 🔎 and 3D data 🗄️ browsing"
   ]
  },
  {
   "cell_type": "code",
   "execution_count": 1,
   "id": "12153bfe",
   "metadata": {
    "_kg_hide-input": true,
    "execution": {
     "iopub.execute_input": "2022-04-29T08:11:39.890630Z",
     "iopub.status.busy": "2022-04-29T08:11:39.889854Z",
     "iopub.status.idle": "2022-04-29T08:13:33.240010Z",
     "shell.execute_reply": "2022-04-29T08:13:33.238457Z"
    },
    "papermill": {
     "duration": 113.377072,
     "end_time": "2022-04-29T08:13:33.244117",
     "exception": false,
     "start_time": "2022-04-29T08:11:39.867045",
     "status": "completed"
    },
    "tags": []
   },
   "outputs": [
    {
     "name": "stdout",
     "output_type": "stream",
     "text": [
      "-rw-r--r-- 1 root root     9048 Apr 29 08:13 kaggle_imsegm-0.1.0.dev0-py3-none-any.whl\r\n",
      "\u001b[33mWARNING: Running pip as the 'root' user can result in broken permissions and conflicting behaviour with the system package manager. It is recommended to use a virtual environment instead: https://pip.pypa.io/warnings/venv\u001b[0m\u001b[33m\r\n",
      "\u001b[0m"
     ]
    }
   ],
   "source": [
    "!pip wheel -q https://github.com/Borda/kaggle_image-segm/archive/refs/heads/main.zip --wheel-dir frozen_packages\n",
    "!rm frozen_packages/torch*\n",
    "!ls -l frozen_packages | grep kaggle\n",
    "!pip install -q 'kaggle-imsegm' --find-links frozen_packages --no-index"
   ]
  },
  {
   "cell_type": "code",
   "execution_count": 2,
   "id": "27886232",
   "metadata": {
    "_cell_guid": "b1076dfc-b9ad-4769-8c92-a6c4dae69d19",
    "_uuid": "8f2839f25d086af736a60e9eeb907d3b93b6e0e5",
    "execution": {
     "iopub.execute_input": "2022-04-29T08:13:33.294087Z",
     "iopub.status.busy": "2022-04-29T08:13:33.293749Z",
     "iopub.status.idle": "2022-04-29T08:13:33.931112Z",
     "shell.execute_reply": "2022-04-29T08:13:33.929921Z"
    },
    "papermill": {
     "duration": 0.66483,
     "end_time": "2022-04-29T08:13:33.933313",
     "exception": false,
     "start_time": "2022-04-29T08:13:33.268483",
     "status": "completed"
    },
    "tags": []
   },
   "outputs": [
    {
     "data": {
      "text/html": [
       "<div>\n",
       "<style scoped>\n",
       "    .dataframe tbody tr th:only-of-type {\n",
       "        vertical-align: middle;\n",
       "    }\n",
       "\n",
       "    .dataframe tbody tr th {\n",
       "        vertical-align: top;\n",
       "    }\n",
       "\n",
       "    .dataframe thead th {\n",
       "        text-align: right;\n",
       "    }\n",
       "</style>\n",
       "<table border=\"1\" class=\"dataframe\">\n",
       "  <thead>\n",
       "    <tr style=\"text-align: right;\">\n",
       "      <th></th>\n",
       "      <th>id</th>\n",
       "      <th>class</th>\n",
       "      <th>segmentation</th>\n",
       "    </tr>\n",
       "  </thead>\n",
       "  <tbody>\n",
       "    <tr>\n",
       "      <th>0</th>\n",
       "      <td>case123_day20_slice_0001</td>\n",
       "      <td>large_bowel</td>\n",
       "      <td>NaN</td>\n",
       "    </tr>\n",
       "    <tr>\n",
       "      <th>1</th>\n",
       "      <td>case123_day20_slice_0001</td>\n",
       "      <td>small_bowel</td>\n",
       "      <td>NaN</td>\n",
       "    </tr>\n",
       "    <tr>\n",
       "      <th>2</th>\n",
       "      <td>case123_day20_slice_0001</td>\n",
       "      <td>stomach</td>\n",
       "      <td>NaN</td>\n",
       "    </tr>\n",
       "    <tr>\n",
       "      <th>3</th>\n",
       "      <td>case123_day20_slice_0002</td>\n",
       "      <td>large_bowel</td>\n",
       "      <td>NaN</td>\n",
       "    </tr>\n",
       "    <tr>\n",
       "      <th>4</th>\n",
       "      <td>case123_day20_slice_0002</td>\n",
       "      <td>small_bowel</td>\n",
       "      <td>NaN</td>\n",
       "    </tr>\n",
       "  </tbody>\n",
       "</table>\n",
       "</div>"
      ],
      "text/plain": [
       "                         id        class segmentation\n",
       "0  case123_day20_slice_0001  large_bowel          NaN\n",
       "1  case123_day20_slice_0001  small_bowel          NaN\n",
       "2  case123_day20_slice_0001      stomach          NaN\n",
       "3  case123_day20_slice_0002  large_bowel          NaN\n",
       "4  case123_day20_slice_0002  small_bowel          NaN"
      ]
     },
     "metadata": {},
     "output_type": "display_data"
    }
   ],
   "source": [
    "import os, glob\n",
    "import pandas as pd\n",
    "import matplotlib.pyplot as plt\n",
    "\n",
    "DATASET_FOLDER = \"/kaggle/input/uw-madison-gi-tract-image-segmentation\"\n",
    "path_csv = os.path.join(DATASET_FOLDER, \"train.csv\")\n",
    "df_train = pd.read_csv(path_csv)\n",
    "display(df_train.head())"
   ]
  },
  {
   "cell_type": "code",
   "execution_count": 3,
   "id": "1942fb6d",
   "metadata": {
    "execution": {
     "iopub.execute_input": "2022-04-29T08:13:33.985112Z",
     "iopub.status.busy": "2022-04-29T08:13:33.984754Z",
     "iopub.status.idle": "2022-04-29T08:13:38.101809Z",
     "shell.execute_reply": "2022-04-29T08:13:38.100810Z"
    },
    "papermill": {
     "duration": 4.147581,
     "end_time": "2022-04-29T08:13:38.104242",
     "exception": false,
     "start_time": "2022-04-29T08:13:33.956661",
     "status": "completed"
    },
    "tags": []
   },
   "outputs": [
    {
     "name": "stdout",
     "output_type": "stream",
     "text": [
      "images: 38496\n",
      "annotated: 38496\n"
     ]
    }
   ],
   "source": [
    "DIR_PATTERN = (\"case*\", \"case*_day*\", \"scans\")\n",
    "all_imgs = glob.glob(os.path.join(DATASET_FOLDER, \"train\", *DIR_PATTERN, \"*.png\"))\n",
    "all_imgs = [p.replace(DATASET_FOLDER, \"\") for p in all_imgs]\n",
    "\n",
    "print(f\"images: {len(all_imgs)}\")\n",
    "print(f\"annotated: {len(df_train['id'].unique())}\")"
   ]
  },
  {
   "cell_type": "markdown",
   "id": "ebf96da6",
   "metadata": {
    "papermill": {
     "duration": 0.021843,
     "end_time": "2022-04-29T08:13:38.148894",
     "exception": false,
     "start_time": "2022-04-29T08:13:38.127051",
     "status": "completed"
    },
    "tags": []
   },
   "source": [
    "## 🔎 Explore and enrich dataset\n",
    "\n",
    "Take the input train table and parse some additiona informations"
   ]
  },
  {
   "cell_type": "code",
   "execution_count": 4,
   "id": "a4e8fc2e",
   "metadata": {
    "execution": {
     "iopub.execute_input": "2022-04-29T08:13:38.195260Z",
     "iopub.status.busy": "2022-04-29T08:13:38.194917Z",
     "iopub.status.idle": "2022-04-29T08:13:38.680793Z",
     "shell.execute_reply": "2022-04-29T08:13:38.679814Z"
    },
    "papermill": {
     "duration": 0.513417,
     "end_time": "2022-04-29T08:13:38.684498",
     "exception": false,
     "start_time": "2022-04-29T08:13:38.171081",
     "status": "completed"
    },
    "tags": []
   },
   "outputs": [
    {
     "data": {
      "image/png": "[encoded data removed]",
      "text/plain": [
       "<Figure size 864x360 with 2 Axes>"
      ]
     },
     "metadata": {},
     "output_type": "display_data"
    }
   ],
   "source": [
    "fig, axes = plt.subplots(nrows=1, ncols=2, figsize=(12, 5))\n",
    "\n",
    "_= df_train[[\"class\"]].value_counts().plot.pie(ax=axes[0], autopct='%1.1f%%', ylabel=\"Class\")\n",
    "\n",
    "count_miss_segm = df_train[\"segmentation\"].isna().sum()\n",
    "_= pd.Series({\n",
    "    \"missing\": count_miss_segm,\n",
    "    \"exist\": len(df_train) - count_miss_segm,\n",
    "}).plot.pie(ax=axes[1], autopct='%1.1f%%', ylabel=\"Segmentation\")"
   ]
  },
  {
   "cell_type": "markdown",
   "id": "82c36162",
   "metadata": {
    "papermill": {
     "duration": 0.026423,
     "end_time": "2022-04-29T08:13:38.739806",
     "exception": false,
     "start_time": "2022-04-29T08:13:38.713383",
     "status": "completed"
    },
    "tags": []
   },
   "source": [
    "Add linking to the images in dataset folder"
   ]
  },
  {
   "cell_type": "code",
   "execution_count": 5,
   "id": "a1400c05",
   "metadata": {
    "_kg_hide-input": true,
    "execution": {
     "iopub.execute_input": "2022-04-29T08:13:38.788237Z",
     "iopub.status.busy": "2022-04-29T08:13:38.787942Z",
     "iopub.status.idle": "2022-04-29T08:13:38.797173Z",
     "shell.execute_reply": "2022-04-29T08:13:38.796146Z"
    },
    "papermill": {
     "duration": 0.036168,
     "end_time": "2022-04-29T08:13:38.799445",
     "exception": false,
     "start_time": "2022-04-29T08:13:38.763277",
     "status": "completed"
    },
    "tags": []
   },
   "outputs": [],
   "source": [
    "def extract_details(id_):\n",
    "    id_fields = id_.split(\"_\")\n",
    "    case = id_fields[0].replace(\"case\", \"\")\n",
    "    day = id_fields[1].replace(\"day\", \"\")\n",
    "    slice_id = id_fields[3]\n",
    "    img_dir = os.path.join(DATASET_FOLDER, \"train\",\n",
    "                           f\"case{case}\", f\"case{case}_day{day}\", \"scans\")\n",
    "    imgs = glob.glob(os.path.join(img_dir, f\"slice_{slice_id}_*.png\"))\n",
    "    assert len(imgs) == 1\n",
    "    img_path = imgs[0].replace(DATASET_FOLDER + \"/\", \"\")\n",
    "    img = os.path.basename(img_path)\n",
    "    # slice_0001_266_266_1.50_1.50.png\n",
    "    im_fields = img.split(\"_\")\n",
    "    return {\n",
    "        \"Case\": int(case),\n",
    "        \"Day\": int(day),\n",
    "        \"Slice\": slice_id,\n",
    "        \"image\": img,\n",
    "        \"image_path\": img_path, \n",
    "        \"height\": int(im_fields[2]),\n",
    "        \"width\": int(im_fields[3]),\n",
    "    }"
   ]
  },
  {
   "cell_type": "code",
   "execution_count": 6,
   "id": "830dbb8d",
   "metadata": {
    "execution": {
     "iopub.execute_input": "2022-04-29T08:13:38.851535Z",
     "iopub.status.busy": "2022-04-29T08:13:38.851206Z",
     "iopub.status.idle": "2022-04-29T08:16:29.709133Z",
     "shell.execute_reply": "2022-04-29T08:16:29.707628Z"
    },
    "papermill": {
     "duration": 170.913055,
     "end_time": "2022-04-29T08:16:29.736921",
     "exception": false,
     "start_time": "2022-04-29T08:13:38.823866",
     "status": "completed"
    },
    "tags": []
   },
   "outputs": [
    {
     "data": {
      "text/html": [
       "<div>\n",
       "<style scoped>\n",
       "    .dataframe tbody tr th:only-of-type {\n",
       "        vertical-align: middle;\n",
       "    }\n",
       "\n",
       "    .dataframe tbody tr th {\n",
       "        vertical-align: top;\n",
       "    }\n",
       "\n",
       "    .dataframe thead th {\n",
       "        text-align: right;\n",
       "    }\n",
       "</style>\n",
       "<table border=\"1\" class=\"dataframe\">\n",
       "  <thead>\n",
       "    <tr style=\"text-align: right;\">\n",
       "      <th></th>\n",
       "      <th>id</th>\n",
       "      <th>class</th>\n",
       "      <th>segmentation</th>\n",
       "      <th>Case</th>\n",
       "      <th>Day</th>\n",
       "      <th>Slice</th>\n",
       "      <th>image</th>\n",
       "      <th>image_path</th>\n",
       "      <th>height</th>\n",
       "      <th>width</th>\n",
       "    </tr>\n",
       "  </thead>\n",
       "  <tbody>\n",
       "    <tr>\n",
       "      <th>0</th>\n",
       "      <td>case123_day20_slice_0001</td>\n",
       "      <td>large_bowel</td>\n",
       "      <td>NaN</td>\n",
       "      <td>123</td>\n",
       "      <td>20</td>\n",
       "      <td>0001</td>\n",
       "      <td>slice_0001_266_266_1.50_1.50.png</td>\n",
       "      <td>train/case123/case123_day20/scans/slice_0001_2...</td>\n",
       "      <td>266</td>\n",
       "      <td>266</td>\n",
       "    </tr>\n",
       "    <tr>\n",
       "      <th>1</th>\n",
       "      <td>case123_day20_slice_0001</td>\n",
       "      <td>small_bowel</td>\n",
       "      <td>NaN</td>\n",
       "      <td>123</td>\n",
       "      <td>20</td>\n",
       "      <td>0001</td>\n",
       "      <td>slice_0001_266_266_1.50_1.50.png</td>\n",
       "      <td>train/case123/case123_day20/scans/slice_0001_2...</td>\n",
       "      <td>266</td>\n",
       "      <td>266</td>\n",
       "    </tr>\n",
       "    <tr>\n",
       "      <th>2</th>\n",
       "      <td>case123_day20_slice_0001</td>\n",
       "      <td>stomach</td>\n",
       "      <td>NaN</td>\n",
       "      <td>123</td>\n",
       "      <td>20</td>\n",
       "      <td>0001</td>\n",
       "      <td>slice_0001_266_266_1.50_1.50.png</td>\n",
       "      <td>train/case123/case123_day20/scans/slice_0001_2...</td>\n",
       "      <td>266</td>\n",
       "      <td>266</td>\n",
       "    </tr>\n",
       "    <tr>\n",
       "      <th>3</th>\n",
       "      <td>case123_day20_slice_0002</td>\n",
       "      <td>large_bowel</td>\n",
       "      <td>NaN</td>\n",
       "      <td>123</td>\n",
       "      <td>20</td>\n",
       "      <td>0002</td>\n",
       "      <td>slice_0002_266_266_1.50_1.50.png</td>\n",
       "      <td>train/case123/case123_day20/scans/slice_0002_2...</td>\n",
       "      <td>266</td>\n",
       "      <td>266</td>\n",
       "    </tr>\n",
       "    <tr>\n",
       "      <th>4</th>\n",
       "      <td>case123_day20_slice_0002</td>\n",
       "      <td>small_bowel</td>\n",
       "      <td>NaN</td>\n",
       "      <td>123</td>\n",
       "      <td>20</td>\n",
       "      <td>0002</td>\n",
       "      <td>slice_0002_266_266_1.50_1.50.png</td>\n",
       "      <td>train/case123/case123_day20/scans/slice_0002_2...</td>\n",
       "      <td>266</td>\n",
       "      <td>266</td>\n",
       "    </tr>\n",
       "  </tbody>\n",
       "</table>\n",
       "</div>"
      ],
      "text/plain": [
       "                         id        class segmentation  Case  Day Slice  \\\n",
       "0  case123_day20_slice_0001  large_bowel          NaN   123   20  0001   \n",
       "1  case123_day20_slice_0001  small_bowel          NaN   123   20  0001   \n",
       "2  case123_day20_slice_0001      stomach          NaN   123   20  0001   \n",
       "3  case123_day20_slice_0002  large_bowel          NaN   123   20  0002   \n",
       "4  case123_day20_slice_0002  small_bowel          NaN   123   20  0002   \n",
       "\n",
       "                              image  \\\n",
       "0  slice_0001_266_266_1.50_1.50.png   \n",
       "1  slice_0001_266_266_1.50_1.50.png   \n",
       "2  slice_0001_266_266_1.50_1.50.png   \n",
       "3  slice_0002_266_266_1.50_1.50.png   \n",
       "4  slice_0002_266_266_1.50_1.50.png   \n",
       "\n",
       "                                          image_path  height  width  \n",
       "0  train/case123/case123_day20/scans/slice_0001_2...     266    266  \n",
       "1  train/case123/case123_day20/scans/slice_0001_2...     266    266  \n",
       "2  train/case123/case123_day20/scans/slice_0001_2...     266    266  \n",
       "3  train/case123/case123_day20/scans/slice_0002_2...     266    266  \n",
       "4  train/case123/case123_day20/scans/slice_0002_2...     266    266  "
      ]
     },
     "metadata": {},
     "output_type": "display_data"
    }
   ],
   "source": [
    "df_train[['Case','Day','Slice', 'image', 'image_path', 'height', 'width']] = \\\n",
    "    df_train['id'].apply(lambda x: pd.Series(extract_details(x)))\n",
    "display(df_train.head())"
   ]
  },
  {
   "cell_type": "markdown",
   "id": "fab50ea2",
   "metadata": {
    "papermill": {
     "duration": 0.026136,
     "end_time": "2022-04-29T08:16:29.789645",
     "exception": false,
     "start_time": "2022-04-29T08:16:29.763509",
     "status": "completed"
    },
    "tags": []
   },
   "source": [
    "Compare timeseries and stack sizes"
   ]
  },
  {
   "cell_type": "code",
   "execution_count": 7,
   "id": "b2dd6973",
   "metadata": {
    "_kg_hide-input": true,
    "execution": {
     "iopub.execute_input": "2022-04-29T08:16:29.843182Z",
     "iopub.status.busy": "2022-04-29T08:16:29.842864Z",
     "iopub.status.idle": "2022-04-29T08:16:30.611232Z",
     "shell.execute_reply": "2022-04-29T08:16:30.610005Z"
    },
    "papermill": {
     "duration": 0.800721,
     "end_time": "2022-04-29T08:16:30.615901",
     "exception": false,
     "start_time": "2022-04-29T08:16:29.815180",
     "status": "completed"
    },
    "tags": []
   },
   "outputs": [
    {
     "data": {
      "application/vnd.jupyter.widget-view+json": {
       "model_id": "22478279cda2457c994f13a3a5d771fa",
       "version_major": 2,
       "version_minor": 0
      },
      "text/plain": [
       "  0%|          | 0/274 [00:00<?, ?it/s]"
      ]
     },
     "metadata": {},
     "output_type": "display_data"
    },
    {
     "data": {
      "text/html": [
       "<div>\n",
       "<style scoped>\n",
       "    .dataframe tbody tr th:only-of-type {\n",
       "        vertical-align: middle;\n",
       "    }\n",
       "\n",
       "    .dataframe tbody tr th {\n",
       "        vertical-align: top;\n",
       "    }\n",
       "\n",
       "    .dataframe thead th {\n",
       "        text-align: right;\n",
       "    }\n",
       "</style>\n",
       "<table border=\"1\" class=\"dataframe\">\n",
       "  <thead>\n",
       "    <tr style=\"text-align: right;\">\n",
       "      <th></th>\n",
       "      <th>Day</th>\n",
       "      <th>Case</th>\n",
       "      <th>Slices</th>\n",
       "    </tr>\n",
       "  </thead>\n",
       "  <tbody>\n",
       "    <tr>\n",
       "      <th>0</th>\n",
       "      <td>1</td>\n",
       "      <td>2</td>\n",
       "      <td>432</td>\n",
       "    </tr>\n",
       "    <tr>\n",
       "      <th>1</th>\n",
       "      <td>2</td>\n",
       "      <td>2</td>\n",
       "      <td>432</td>\n",
       "    </tr>\n",
       "    <tr>\n",
       "      <th>2</th>\n",
       "      <td>3</td>\n",
       "      <td>2</td>\n",
       "      <td>432</td>\n",
       "    </tr>\n",
       "    <tr>\n",
       "      <th>3</th>\n",
       "      <td>4</td>\n",
       "      <td>2</td>\n",
       "      <td>432</td>\n",
       "    </tr>\n",
       "    <tr>\n",
       "      <th>4</th>\n",
       "      <td>5</td>\n",
       "      <td>2</td>\n",
       "      <td>432</td>\n",
       "    </tr>\n",
       "  </tbody>\n",
       "</table>\n",
       "</div>"
      ],
      "text/plain": [
       "   Day  Case  Slices\n",
       "0    1     2     432\n",
       "1    2     2     432\n",
       "2    3     2     432\n",
       "3    4     2     432\n",
       "4    5     2     432"
      ]
     },
     "metadata": {},
     "output_type": "display_data"
    }
   ],
   "source": [
    "from tqdm.auto import tqdm\n",
    "\n",
    "train_overview = []\n",
    "for (case, day), dfg in tqdm(df_train.groupby([\"Case\", \"Day\"])):\n",
    "    train_overview.append({\"Day\": int(day), \"Case\": int(case), \"Slices\": len(dfg)})\n",
    "df_train_overview = pd.DataFrame(train_overview)\n",
    "display(df_train_overview.head())"
   ]
  },
  {
   "cell_type": "code",
   "execution_count": 8,
   "id": "81fc7f9c",
   "metadata": {
    "execution": {
     "iopub.execute_input": "2022-04-29T08:16:30.673669Z",
     "iopub.status.busy": "2022-04-29T08:16:30.673383Z",
     "iopub.status.idle": "2022-04-29T08:17:16.263183Z",
     "shell.execute_reply": "2022-04-29T08:17:16.261721Z"
    },
    "papermill": {
     "duration": 45.621531,
     "end_time": "2022-04-29T08:17:16.265580",
     "exception": false,
     "start_time": "2022-04-29T08:16:30.644049",
     "status": "completed"
    },
    "tags": []
   },
   "outputs": [
    {
     "data": {
      "application/vnd.jupyter.widget-view+json": {
       "model_id": "1af273d8eab049f0b938ff42561c3143",
       "version_major": 2,
       "version_minor": 0
      },
      "text/plain": [
       "  0%|          | 0/38496 [00:00<?, ?it/s]"
      ]
     },
     "metadata": {},
     "output_type": "display_data"
    },
    {
     "data": {
      "text/html": [
       "<div>\n",
       "<style scoped>\n",
       "    .dataframe tbody tr th:only-of-type {\n",
       "        vertical-align: middle;\n",
       "    }\n",
       "\n",
       "    .dataframe tbody tr th {\n",
       "        vertical-align: top;\n",
       "    }\n",
       "\n",
       "    .dataframe thead th {\n",
       "        text-align: right;\n",
       "    }\n",
       "</style>\n",
       "<table border=\"1\" class=\"dataframe\">\n",
       "  <thead>\n",
       "    <tr style=\"text-align: right;\">\n",
       "      <th></th>\n",
       "      <th>id</th>\n",
       "      <th>Case</th>\n",
       "      <th>Day</th>\n",
       "      <th>Slice</th>\n",
       "      <th>image</th>\n",
       "      <th>image_path</th>\n",
       "      <th>height</th>\n",
       "      <th>width</th>\n",
       "      <th>large_bowel</th>\n",
       "      <th>small_bowel</th>\n",
       "      <th>stomach</th>\n",
       "    </tr>\n",
       "  </thead>\n",
       "  <tbody>\n",
       "    <tr>\n",
       "      <th>0</th>\n",
       "      <td>case101_day20_slice_0001</td>\n",
       "      <td>101</td>\n",
       "      <td>20</td>\n",
       "      <td>0001</td>\n",
       "      <td>slice_0001_266_266_1.50_1.50.png</td>\n",
       "      <td>train/case101/case101_day20/scans/slice_0001_2...</td>\n",
       "      <td>266</td>\n",
       "      <td>266</td>\n",
       "      <td>NaN</td>\n",
       "      <td>NaN</td>\n",
       "      <td>NaN</td>\n",
       "    </tr>\n",
       "    <tr>\n",
       "      <th>1</th>\n",
       "      <td>case101_day20_slice_0002</td>\n",
       "      <td>101</td>\n",
       "      <td>20</td>\n",
       "      <td>0002</td>\n",
       "      <td>slice_0002_266_266_1.50_1.50.png</td>\n",
       "      <td>train/case101/case101_day20/scans/slice_0002_2...</td>\n",
       "      <td>266</td>\n",
       "      <td>266</td>\n",
       "      <td>NaN</td>\n",
       "      <td>NaN</td>\n",
       "      <td>NaN</td>\n",
       "    </tr>\n",
       "    <tr>\n",
       "      <th>2</th>\n",
       "      <td>case101_day20_slice_0003</td>\n",
       "      <td>101</td>\n",
       "      <td>20</td>\n",
       "      <td>0003</td>\n",
       "      <td>slice_0003_266_266_1.50_1.50.png</td>\n",
       "      <td>train/case101/case101_day20/scans/slice_0003_2...</td>\n",
       "      <td>266</td>\n",
       "      <td>266</td>\n",
       "      <td>NaN</td>\n",
       "      <td>NaN</td>\n",
       "      <td>NaN</td>\n",
       "    </tr>\n",
       "    <tr>\n",
       "      <th>3</th>\n",
       "      <td>case101_day20_slice_0004</td>\n",
       "      <td>101</td>\n",
       "      <td>20</td>\n",
       "      <td>0004</td>\n",
       "      <td>slice_0004_266_266_1.50_1.50.png</td>\n",
       "      <td>train/case101/case101_day20/scans/slice_0004_2...</td>\n",
       "      <td>266</td>\n",
       "      <td>266</td>\n",
       "      <td>NaN</td>\n",
       "      <td>NaN</td>\n",
       "      <td>NaN</td>\n",
       "    </tr>\n",
       "    <tr>\n",
       "      <th>4</th>\n",
       "      <td>case101_day20_slice_0005</td>\n",
       "      <td>101</td>\n",
       "      <td>20</td>\n",
       "      <td>0005</td>\n",
       "      <td>slice_0005_266_266_1.50_1.50.png</td>\n",
       "      <td>train/case101/case101_day20/scans/slice_0005_2...</td>\n",
       "      <td>266</td>\n",
       "      <td>266</td>\n",
       "      <td>NaN</td>\n",
       "      <td>NaN</td>\n",
       "      <td>NaN</td>\n",
       "    </tr>\n",
       "  </tbody>\n",
       "</table>\n",
       "</div>"
      ],
      "text/plain": [
       "                         id  Case  Day Slice  \\\n",
       "0  case101_day20_slice_0001   101   20  0001   \n",
       "1  case101_day20_slice_0002   101   20  0002   \n",
       "2  case101_day20_slice_0003   101   20  0003   \n",
       "3  case101_day20_slice_0004   101   20  0004   \n",
       "4  case101_day20_slice_0005   101   20  0005   \n",
       "\n",
       "                              image  \\\n",
       "0  slice_0001_266_266_1.50_1.50.png   \n",
       "1  slice_0002_266_266_1.50_1.50.png   \n",
       "2  slice_0003_266_266_1.50_1.50.png   \n",
       "3  slice_0004_266_266_1.50_1.50.png   \n",
       "4  slice_0005_266_266_1.50_1.50.png   \n",
       "\n",
       "                                          image_path  height  width  \\\n",
       "0  train/case101/case101_day20/scans/slice_0001_2...     266    266   \n",
       "1  train/case101/case101_day20/scans/slice_0002_2...     266    266   \n",
       "2  train/case101/case101_day20/scans/slice_0003_2...     266    266   \n",
       "3  train/case101/case101_day20/scans/slice_0004_2...     266    266   \n",
       "4  train/case101/case101_day20/scans/slice_0005_2...     266    266   \n",
       "\n",
       "  large_bowel small_bowel stomach  \n",
       "0         NaN         NaN     NaN  \n",
       "1         NaN         NaN     NaN  \n",
       "2         NaN         NaN     NaN  \n",
       "3         NaN         NaN     NaN  \n",
       "4         NaN         NaN     NaN  "
      ]
     },
     "metadata": {},
     "output_type": "display_data"
    }
   ],
   "source": [
    "train_ = []\n",
    "for id_, dfg in tqdm(df_train.groupby(\"id\")):\n",
    "    row = dict(dfg.iloc[0])\n",
    "    del row[\"class\"]\n",
    "    del row[\"segmentation\"]\n",
    "    for _, (cls, segm) in dfg[[\"class\", \"segmentation\"]].iterrows():\n",
    "        row[cls] = segm\n",
    "    train_.append(row)\n",
    "df_train_aggr = pd.DataFrame(train_)\n",
    "display(df_train_aggr.head())"
   ]
  },
  {
   "cell_type": "code",
   "execution_count": 9,
   "id": "aea44a41",
   "metadata": {
    "execution": {
     "iopub.execute_input": "2022-04-29T08:17:16.324545Z",
     "iopub.status.busy": "2022-04-29T08:17:16.324270Z",
     "iopub.status.idle": "2022-04-29T08:17:16.829230Z",
     "shell.execute_reply": "2022-04-29T08:17:16.828320Z"
    },
    "papermill": {
     "duration": 0.537624,
     "end_time": "2022-04-29T08:17:16.831501",
     "exception": false,
     "start_time": "2022-04-29T08:17:16.293877",
     "status": "completed"
    },
    "tags": []
   },
   "outputs": [
    {
     "data": {
      "text/plain": [
       "Text(0.5, 0, 'sampled days')"
      ]
     },
     "execution_count": 9,
     "metadata": {},
     "output_type": "execute_result"
    },
    {
     "data": {
      "image/png": "[encoded data removed]",
      "text/plain": [
       "<Figure size 864x288 with 2 Axes>"
      ]
     },
     "metadata": {
      "needs_background": "light"
     },
     "output_type": "display_data"
    }
   ],
   "source": [
    "fig, axes = plt.subplots(nrows=1, ncols=2, figsize=(12, 4))\n",
    "df_uq = df_train_aggr.drop_duplicates([\"Case\",\"Day\"])\n",
    "df_uq[\"Day\"].hist(ax=axes[0], bins=40)\n",
    "axes[0].set_xlabel(\"day indexes\")\n",
    "df_uq[\"Case\"].value_counts().hist(ax=axes[1], bins=5)\n",
    "axes[0].set_xlabel(\"sampled days\")"
   ]
  },
  {
   "cell_type": "code",
   "execution_count": 10,
   "id": "ec7c0864",
   "metadata": {
    "execution": {
     "iopub.execute_input": "2022-04-29T08:17:16.904988Z",
     "iopub.status.busy": "2022-04-29T08:17:16.904350Z",
     "iopub.status.idle": "2022-04-29T08:17:17.230495Z",
     "shell.execute_reply": "2022-04-29T08:17:17.229320Z"
    },
    "papermill": {
     "duration": 0.365443,
     "end_time": "2022-04-29T08:17:17.233304",
     "exception": false,
     "start_time": "2022-04-29T08:17:16.867861",
     "status": "completed"
    },
    "tags": []
   },
   "outputs": [
    {
     "data": {
      "text/plain": [
       "<AxesSubplot:ylabel='None'>"
      ]
     },
     "execution_count": 10,
     "metadata": {},
     "output_type": "execute_result"
    },
    {
     "data": {
      "image/png": "[encoded data removed]",
      "text/plain": [
       "<Figure size 864x288 with 2 Axes>"
      ]
     },
     "metadata": {
      "needs_background": "light"
     },
     "output_type": "display_data"
    }
   ],
   "source": [
    "fig, axes = plt.subplots(nrows=1, ncols=2, figsize=(12, 4))\n",
    "df_hw = df_train_aggr.drop_duplicates([\"Case\",\"Day\"])[[\"height\", \"width\"]]\n",
    "df_hw.value_counts().plot.bar(ax=axes[0], grid=True)\n",
    "df_train_aggr.groupby([\"Case\",\"Day\"]).size().value_counts().plot.pie(ax=axes[1])"
   ]
  },
  {
   "cell_type": "code",
   "execution_count": 11,
   "id": "d3a4d12d",
   "metadata": {
    "execution": {
     "iopub.execute_input": "2022-04-29T08:17:17.298704Z",
     "iopub.status.busy": "2022-04-29T08:17:17.297550Z",
     "iopub.status.idle": "2022-04-29T08:17:17.528956Z",
     "shell.execute_reply": "2022-04-29T08:17:17.527561Z"
    },
    "papermill": {
     "duration": 0.268069,
     "end_time": "2022-04-29T08:17:17.531535",
     "exception": false,
     "start_time": "2022-04-29T08:17:17.263466",
     "status": "completed"
    },
    "tags": []
   },
   "outputs": [
    {
     "data": {
      "text/plain": [
       "Text(0, 0.5, 'nb slices')"
      ]
     },
     "execution_count": 11,
     "metadata": {},
     "output_type": "execute_result"
    },
    {
     "data": {
      "image/png": "[encoded data removed]",
      "text/plain": [
       "<Figure size 432x216 with 1 Axes>"
      ]
     },
     "metadata": {
      "needs_background": "light"
     },
     "output_type": "display_data"
    }
   ],
   "source": [
    "cls_segm = {k: len(df_train_aggr) - df_train_aggr[k].isna().sum()\n",
    "            for k in (\"large_bowel\", \"small_bowel\", \"stomach\")}\n",
    "ax = pd.Series(cls_segm).plot.bar(grid=True, figsize=(6, 3))\n",
    "ax.set_ylabel(\"nb slices\")"
   ]
  },
  {
   "cell_type": "markdown",
   "id": "64dc99c8",
   "metadata": {
    "papermill": {
     "duration": 0.032934,
     "end_time": "2022-04-29T08:17:17.596977",
     "exception": false,
     "start_time": "2022-04-29T08:17:17.564043",
     "status": "completed"
    },
    "tags": []
   },
   "source": [
    "## Browse the 3D image"
   ]
  },
  {
   "cell_type": "code",
   "execution_count": 12,
   "id": "d26cd477",
   "metadata": {
    "_kg_hide-input": true,
    "execution": {
     "iopub.execute_input": "2022-04-29T08:17:17.666769Z",
     "iopub.status.busy": "2022-04-29T08:17:17.666468Z",
     "iopub.status.idle": "2022-04-29T08:17:17.674850Z",
     "shell.execute_reply": "2022-04-29T08:17:17.673903Z"
    },
    "papermill": {
     "duration": 0.044556,
     "end_time": "2022-04-29T08:17:17.677069",
     "exception": false,
     "start_time": "2022-04-29T08:17:17.632513",
     "status": "completed"
    },
    "tags": []
   },
   "outputs": [],
   "source": [
    "import numpy as np\n",
    "from PIL import Image\n",
    "\n",
    "def load_image_volume(img_dir, quant=0.01):\n",
    "    imgs = sorted(glob.glob(os.path.join(img_dir, f\"*.png\")))\n",
    "    imgs = [np.array(Image.open(p)).tolist() for p in imgs]\n",
    "    # print([np.max(im) for im in imgs])\n",
    "    vol = np.array(imgs)\n",
    "    if quant:\n",
    "        q_low, q_high = np.percentile(vol, [quant * 100, (1 - quant) * 100])\n",
    "        vol = np.clip(vol, q_low, q_high)\n",
    "    v_min, v_max = np.min(vol), np.max(vol)\n",
    "    vol = (vol - v_min) / (v_max - v_min)\n",
    "    vol = (vol * 255).astype(np.uint8)\n",
    "    return vol"
   ]
  },
  {
   "cell_type": "code",
   "execution_count": 13,
   "id": "19d23946",
   "metadata": {
    "_kg_hide-input": true,
    "execution": {
     "iopub.execute_input": "2022-04-29T08:17:17.747718Z",
     "iopub.status.busy": "2022-04-29T08:17:17.747343Z",
     "iopub.status.idle": "2022-04-29T08:17:17.759257Z",
     "shell.execute_reply": "2022-04-29T08:17:17.758339Z"
    },
    "papermill": {
     "duration": 0.051811,
     "end_time": "2022-04-29T08:17:17.761564",
     "exception": false,
     "start_time": "2022-04-29T08:17:17.709753",
     "status": "completed"
    },
    "tags": []
   },
   "outputs": [],
   "source": [
    "from kaggle_imsegm.mask import rle_decode\n",
    "\n",
    "def create_organs_segm(df_vol, vol_shape):\n",
    "    df_vol = df_vol.replace(np.nan, '')\n",
    "    segm = np.zeros(vol_shape, dtype=np.uint8)\n",
    "    lbs = sorted(df_vol[\"class\"].unique())\n",
    "    for idx_, dfg in df_vol.groupby(\"Slice\"):\n",
    "        idx = int(idx_) - 1\n",
    "        mask = segm[idx, :, :]\n",
    "        for _, (lb, rle) in dfg[[\"class\", \"segmentation\"]].iterrows():\n",
    "            lb = lbs.index(lb) + 1\n",
    "            if not rle:\n",
    "                continue\n",
    "            mask = rle_decode(rle, img=mask, label=lb)\n",
    "        segm[idx, :, :] = mask\n",
    "        # plt.figure(); plt.imshow(mask)\n",
    "    return segm"
   ]
  },
  {
   "cell_type": "code",
   "execution_count": 14,
   "id": "6c90e3e2",
   "metadata": {
    "execution": {
     "iopub.execute_input": "2022-04-29T08:17:17.831174Z",
     "iopub.status.busy": "2022-04-29T08:17:17.830825Z",
     "iopub.status.idle": "2022-04-29T08:17:22.737626Z",
     "shell.execute_reply": "2022-04-29T08:17:22.736457Z"
    },
    "papermill": {
     "duration": 4.945888,
     "end_time": "2022-04-29T08:17:22.740554",
     "exception": false,
     "start_time": "2022-04-29T08:17:17.794666",
     "status": "completed"
    },
    "tags": []
   },
   "outputs": [
    {
     "name": "stdout",
     "output_type": "stream",
     "text": [
      "(144, 310, 360)\n",
      "(144, 310, 360)\n"
     ]
    }
   ],
   "source": [
    "CASE = 114\n",
    "DAY = 15\n",
    "IMAGE_FOLDER = os.path.join(\n",
    "    DATASET_FOLDER, \"train\", f\"case{CASE}\", f\"case{CASE}_day{DAY}\", \"scans\")\n",
    "\n",
    "vol = load_image_volume(img_dir=IMAGE_FOLDER)\n",
    "print(vol.shape)\n",
    "\n",
    "df_ = df_train[(df_train[\"Case\"] == CASE) & (df_train[\"Day\"] == DAY)]\n",
    "segm = create_organs_segm(df_vol=df_, vol_shape=vol.shape)\n",
    "print(segm.shape)"
   ]
  },
  {
   "cell_type": "code",
   "execution_count": 15,
   "id": "269f32ed",
   "metadata": {
    "_kg_hide-input": true,
    "execution": {
     "iopub.execute_input": "2022-04-29T08:17:22.811443Z",
     "iopub.status.busy": "2022-04-29T08:17:22.811049Z",
     "iopub.status.idle": "2022-04-29T08:17:23.194335Z",
     "shell.execute_reply": "2022-04-29T08:17:23.193077Z"
    },
    "papermill": {
     "duration": 0.422531,
     "end_time": "2022-04-29T08:17:23.197341",
     "exception": false,
     "start_time": "2022-04-29T08:17:22.774810",
     "status": "completed"
    },
    "tags": []
   },
   "outputs": [],
   "source": [
    "from ipywidgets import interact, IntSlider\n",
    "from matplotlib.patches import PathPatch, Rectangle\n",
    "from matplotlib.path import Path\n",
    "from skimage import color\n",
    "\n",
    "\n",
    "def _draw_line(ax, coords, clr='g'):\n",
    "    line = Path(coords, [Path.MOVETO, Path.LINETO])\n",
    "    pp = PathPatch(line, linewidth=3, edgecolor=clr, facecolor='none')\n",
    "    ax.add_patch(pp)\n",
    "\n",
    "def _set_axes_labels(ax, axes_x, axes_y):\n",
    "    ax.set_xlabel(axes_x)\n",
    "    ax.set_ylabel(axes_y)\n",
    "    ax.set_aspect('equal', 'box')\n",
    "\n",
    "_rec_prop = dict(linewidth=5, facecolor='none')\n",
    "\n",
    "def show_volume(vol, segm, z, y, x, fig_size=(9, 9)):\n",
    "    fig, axarr = plt.subplots(nrows=2, ncols=2, figsize=fig_size)\n",
    "    v_z, v_y, v_x = vol.shape\n",
    "    # axarr[0, 0].imshow(vol[x, :, :], cmap=\"gray\", vmin=0, vmax=255)\n",
    "    # axarr[0, 1].imshow(vol[:, :, z], cmap=\"gray\", vmin=0, vmax=255)\n",
    "    # axarr[1, 0].imshow(vol[:, y, :], cmap=\"gray\", vmin=0, vmax=255)\n",
    "    axarr[0, 0].imshow(color.label2rgb(segm[z, :, :], vol[z, :, :]))\n",
    "    axarr[0, 0].add_patch(Rectangle((-1, -1), v_x, v_y, edgecolor='r', **_rec_prop))\n",
    "    _draw_line(axarr[0, 0], [(x, 0), (x, v_y)], \"g\")\n",
    "    _draw_line(axarr[0, 0], [(0, y), (v_x, y)], \"b\")\n",
    "    _set_axes_labels(axarr[0, 0], \"X\", \"Y\")\n",
    "    axarr[0, 1].imshow(color.label2rgb(segm[:, :, x].T, vol[:, :, x].T))\n",
    "    axarr[0, 1].add_patch(Rectangle((-1, -1), v_z, v_y, edgecolor='g', **_rec_prop))\n",
    "    _draw_line(axarr[0, 1], [(z, 0), (z, v_y)], \"r\")\n",
    "    _draw_line(axarr[0, 1], [(0, y), (v_x, y)], \"b\")\n",
    "    _set_axes_labels(axarr[0, 1], \"Z\", \"Y\")\n",
    "    axarr[1, 0].imshow(color.label2rgb(segm[:, y, :], vol[:, y, :]))\n",
    "    axarr[1, 0].add_patch(Rectangle((-1, -1), v_x, v_z, edgecolor='b', **_rec_prop))\n",
    "    _draw_line(axarr[1, 0], [(0, z), (v_x, z)], \"r\")\n",
    "    _draw_line(axarr[1, 0], [(x, 0), (x, v_y)], \"g\")\n",
    "    _set_axes_labels(axarr[1, 0], \"X\", \"Z\")\n",
    "    axarr[1, 1].set_axis_off()\n",
    "    fig.tight_layout()\n",
    "\n",
    "\n",
    "def interactive_show(volume):\n",
    "    vol_shape = volume.shape\n",
    "    interact(\n",
    "        lambda x, y, z: plt.show(show_volume(volume, segm, z, y, x)),\n",
    "        z=IntSlider(min=0, max=vol_shape[0], step=5, value=int(vol_shape[0] / 2)),\n",
    "        y=IntSlider(min=0, max=vol_shape[1], step=5, value=int(vol_shape[1] / 2)),\n",
    "        x=IntSlider(min=0, max=vol_shape[2], step=5, value=int(vol_shape[2] / 2)),\n",
    "    )"
   ]
  },
  {
   "cell_type": "code",
   "execution_count": 16,
   "id": "14947d40",
   "metadata": {
    "execution": {
     "iopub.execute_input": "2022-04-29T08:17:23.272940Z",
     "iopub.status.busy": "2022-04-29T08:17:23.272629Z",
     "iopub.status.idle": "2022-04-29T08:17:24.006567Z",
     "shell.execute_reply": "2022-04-29T08:17:24.005109Z"
    },
    "papermill": {
     "duration": 0.777831,
     "end_time": "2022-04-29T08:17:24.015437",
     "exception": false,
     "start_time": "2022-04-29T08:17:23.237606",
     "status": "completed"
    },
    "tags": []
   },
   "outputs": [
    {
     "data": {
      "application/vnd.jupyter.widget-view+json": {
       "model_id": "5717ff4409334ce596df8b96b9543b2f",
       "version_major": 2,
       "version_minor": 0
      },
      "text/plain": [
       "interactive(children=(IntSlider(value=180, description='x', max=360, step=5), IntSlider(value=155, description…"
      ]
     },
     "metadata": {},
     "output_type": "display_data"
    }
   ],
   "source": [
    "interactive_show(vol)"
   ]
  }
 ],
 "metadata": {
  "kernelspec": {
   "display_name": "Python 3",
   "language": "python",
   "name": "python3"
  },
  "language_info": {
   "codemirror_mode": {
    "name": "ipython",
    "version": 3
   },
   "file_extension": ".py",
   "mimetype": "text/x-python",
   "name": "python",
   "nbconvert_exporter": "python",
   "pygments_lexer": "ipython3",
   "version": "3.7.12"
  },
  "papermill": {
   "default_parameters": {},
   "duration": 355.748805,
   "end_time": "2022-04-29T08:17:25.183421",
   "environment_variables": {},
   "exception": null,
   "input_path": "__notebook__.ipynb",
   "output_path": "__notebook__.ipynb",
   "parameters": {},
   "start_time": "2022-04-29T08:11:29.434616",
   "version": "2.3.4"
  },
  "widgets": {
   "application/vnd.jupyter.widget-state+json": {
    "state": {
     "165e2685819046d395cae8916174f493": {
      "model_module": "@jupyter-widgets/controls",
      "model_module_version": "1.5.0",
      "model_name": "HTMLModel",
      "state": {
       "_dom_classes": [],
       "_model_module": "@jupyter-widgets/controls",
       "_model_module_version": "1.5.0",
       "_model_name": "HTMLModel",
       "_view_count": null,
       "_view_module": "@jupyter-widgets/controls",
       "_view_module_version": "1.5.0",
       "_view_name": "HTMLView",
       "description": "",
       "description_tooltip": null,
       "layout": "IPY_MODEL_554020578a004079af49e3fb3ed6285b",
       "placeholder": "​",
       "style": "IPY_MODEL_7ded73ec60004ff69a46a73d733fa9db",
       "value": "100%"
      }
     },
     "1af273d8eab049f0b938ff42561c3143": {
      "model_module": "@jupyter-widgets/controls",
      "model_module_version": "1.5.0",
      "model_name": "HBoxModel",
      "state": {
       "_dom_classes": [],
       "_model_module": "@jupyter-widgets/controls",
       "_model_module_version": "1.5.0",
       "_model_name": "HBoxModel",
       "_view_count": null,
       "_view_module": "@jupyter-widgets/controls",
       "_view_module_version": "1.5.0",
       "_view_name": "HBoxView",
       "box_style": "",
       "children": [
        "IPY_MODEL_fa1901da267944e5b871ed85310cdd75",
        "IPY_MODEL_fcb679c69c5946b4b39ffbede4acc1e4",
        "IPY_MODEL_ef71bd0154d64c9a9cc1b17502b3646f"
       ],
       "layout": "IPY_MODEL_77603adaa30649f0a24ff8348b16139b"
      }
     },
     "213f0bbcbc784a15801b91a9fb833b4e": {
      "model_module": "@jupyter-widgets/base",
      "model_module_version": "1.2.0",
      "model_name": "LayoutModel",
      "state": {
       "_model_module": "@jupyter-widgets/base",
       "_model_module_version": "1.2.0",
       "_model_name": "LayoutModel",
       "_view_count": null,
       "_view_module": "@jupyter-widgets/base",
       "_view_module_version": "1.2.0",
       "_view_name": "LayoutView",
       "align_content": null,
       "align_items": null,
       "align_self": null,
       "border": null,
       "bottom": null,
       "display": null,
       "flex": null,
       "flex_flow": null,
       "grid_area": null,
       "grid_auto_columns": null,
       "grid_auto_flow": null,
       "grid_auto_rows": null,
       "grid_column": null,
       "grid_gap": null,
       "grid_row": null,
       "grid_template_areas": null,
       "grid_template_columns": null,
       "grid_template_rows": null,
       "height": null,
       "justify_content": null,
       "justify_items": null,
       "left": null,
       "margin": null,
       "max_height": null,
       "max_width": null,
       "min_height": null,
       "min_width": null,
       "object_fit": null,
       "object_position": null,
       "order": null,
       "overflow": null,
       "overflow_x": null,
       "overflow_y": null,
       "padding": null,
       "right": null,
       "top": null,
       "visibility": null,
       "width": null
      }
     },
     "22478279cda2457c994f13a3a5d771fa": {
      "model_module": "@jupyter-widgets/controls",
      "model_module_version": "1.5.0",
      "model_name": "HBoxModel",
      "state": {
       "_dom_classes": [],
       "_model_module": "@jupyter-widgets/controls",
       "_model_module_version": "1.5.0",
       "_model_name": "HBoxModel",
       "_view_count": null,
       "_view_module": "@jupyter-widgets/controls",
       "_view_module_version": "1.5.0",
       "_view_name": "HBoxView",
       "box_style": "",
       "children": [
        "IPY_MODEL_165e2685819046d395cae8916174f493",
        "IPY_MODEL_eddc7ab8fc844028a285507ccca1695f",
        "IPY_MODEL_8bffd6f5814e42dea32ced9cb5bb47a2"
       ],
       "layout": "IPY_MODEL_7fbba039c534424c863194283c33cb67"
      }
     },
     "24fc8c1b04b5425da5bc2e16fa1f585a": {
      "model_module": "@jupyter-widgets/base",
      "model_module_version": "1.2.0",
      "model_name": "LayoutModel",
      "state": {
       "_model_module": "@jupyter-widgets/base",
       "_model_module_version": "1.2.0",
       "_model_name": "LayoutModel",
       "_view_count": null,
       "_view_module": "@jupyter-widgets/base",
       "_view_module_version": "1.2.0",
       "_view_name": "LayoutView",
       "align_content": null,
       "align_items": null,
       "align_self": null,
       "border": null,
       "bottom": null,
       "display": null,
       "flex": null,
       "flex_flow": null,
       "grid_area": null,
       "grid_auto_columns": null,
       "grid_auto_flow": null,
       "grid_auto_rows": null,
       "grid_column": null,
       "grid_gap": null,
       "grid_row": null,
       "grid_template_areas": null,
       "grid_template_columns": null,
       "grid_template_rows": null,
       "height": null,
       "justify_content": null,
       "justify_items": null,
       "left": null,
       "margin": null,
       "max_height": null,
       "max_width": null,
       "min_height": null,
       "min_width": null,
       "object_fit": null,
       "object_position": null,
       "order": null,
       "overflow": null,
       "overflow_x": null,
       "overflow_y": null,
       "padding": null,
       "right": null,
       "top": null,
       "visibility": null,
       "width": null
      }
     },
     "2f3f45350ae940c4b0f6427abbafbfbf": {
      "model_module": "@jupyter-widgets/base",
      "model_module_version": "1.2.0",
      "model_name": "LayoutModel",
      "state": {
       "_model_module": "@jupyter-widgets/base",
       "_model_module_version": "1.2.0",
       "_model_name": "LayoutModel",
       "_view_count": null,
       "_view_module": "@jupyter-widgets/base",
       "_view_module_version": "1.2.0",
       "_view_name": "LayoutView",
       "align_content": null,
       "align_items": null,
       "align_self": null,
       "border": null,
       "bottom": null,
       "display": null,
       "flex": null,
       "flex_flow": null,
       "grid_area": null,
       "grid_auto_columns": null,
       "grid_auto_flow": null,
       "grid_auto_rows": null,
       "grid_column": null,
       "grid_gap": null,
       "grid_row": null,
       "grid_template_areas": null,
       "grid_template_columns": null,
       "grid_template_rows": null,
       "height": null,
       "justify_content": null,
       "justify_items": null,
       "left": null,
       "margin": null,
       "max_height": null,
       "max_width": null,
       "min_height": null,
       "min_width": null,
       "object_fit": null,
       "object_position": null,
       "order": null,
       "overflow": null,
       "overflow_x": null,
       "overflow_y": null,
       "padding": null,
       "right": null,
       "top": null,
       "visibility": null,
       "width": null
      }
     },
     "3324f16fccab4389a77e6ab889a27201": {
      "model_module": "@jupyter-widgets/base",
      "model_module_version": "1.2.0",
      "model_name": "LayoutModel",
      "state": {
       "_model_module": "@jupyter-widgets/base",
       "_model_module_version": "1.2.0",
       "_model_name": "LayoutModel",
       "_view_count": null,
       "_view_module": "@jupyter-widgets/base",
       "_view_module_version": "1.2.0",
       "_view_name": "LayoutView",
       "align_content": null,
       "align_items": null,
       "align_self": null,
       "border": null,
       "bottom": null,
       "display": null,
       "flex": null,
       "flex_flow": null,
       "grid_area": null,
       "grid_auto_columns": null,
       "grid_auto_flow": null,
       "grid_auto_rows": null,
       "grid_column": null,
       "grid_gap": null,
       "grid_row": null,
       "grid_template_areas": null,
       "grid_template_columns": null,
       "grid_template_rows": null,
       "height": null,
       "justify_content": null,
       "justify_items": null,
       "left": null,
       "margin": null,
       "max_height": null,
       "max_width": null,
       "min_height": null,
       "min_width": null,
       "object_fit": null,
       "object_position": null,
       "order": null,
       "overflow": null,
       "overflow_x": null,
       "overflow_y": null,
       "padding": null,
       "right": null,
       "top": null,
       "visibility": null,
       "width": null
      }
     },
     "3c312764f10a4c7d9402412bd0ace7b5": {
      "model_module": "@jupyter-widgets/base",
      "model_module_version": "1.2.0",
      "model_name": "LayoutModel",
      "state": {
       "_model_module": "@jupyter-widgets/base",
       "_model_module_version": "1.2.0",
       "_model_name": "LayoutModel",
       "_view_count": null,
       "_view_module": "@jupyter-widgets/base",
       "_view_module_version": "1.2.0",
       "_view_name": "LayoutView",
       "align_content": null,
       "align_items": null,
       "align_self": null,
       "border": null,
       "bottom": null,
       "display": null,
       "flex": null,
       "flex_flow": null,
       "grid_area": null,
       "grid_auto_columns": null,
       "grid_auto_flow": null,
       "grid_auto_rows": null,
       "grid_column": null,
       "grid_gap": null,
       "grid_row": null,
       "grid_template_areas": null,
       "grid_template_columns": null,
       "grid_template_rows": null,
       "height": null,
       "justify_content": null,
       "justify_items": null,
       "left": null,
       "margin": null,
       "max_height": null,
       "max_width": null,
       "min_height": null,
       "min_width": null,
       "object_fit": null,
       "object_position": null,
       "order": null,
       "overflow": null,
       "overflow_x": null,
       "overflow_y": null,
       "padding": null,
       "right": null,
       "top": null,
       "visibility": null,
       "width": null
      }
     },
     "3c8e118a644247f482e87a703aad831c": {
      "model_module": "@jupyter-widgets/base",
      "model_module_version": "1.2.0",
      "model_name": "LayoutModel",
      "state": {
       "_model_module": "@jupyter-widgets/base",
       "_model_module_version": "1.2.0",
       "_model_name": "LayoutModel",
       "_view_count": null,
       "_view_module": "@jupyter-widgets/base",
       "_view_module_version": "1.2.0",
       "_view_name": "LayoutView",
       "align_content": null,
       "align_items": null,
       "align_self": null,
       "border": null,
       "bottom": null,
       "display": null,
       "flex": null,
       "flex_flow": null,
       "grid_area": null,
       "grid_auto_columns": null,
       "grid_auto_flow": null,
       "grid_auto_rows": null,
       "grid_column": null,
       "grid_gap": null,
       "grid_row": null,
       "grid_template_areas": null,
       "grid_template_columns": null,
       "grid_template_rows": null,
       "height": null,
       "justify_content": null,
       "justify_items": null,
       "left": null,
       "margin": null,
       "max_height": null,
       "max_width": null,
       "min_height": null,
       "min_width": null,
       "object_fit": null,
       "object_position": null,
       "order": null,
       "overflow": null,
       "overflow_x": null,
       "overflow_y": null,
       "padding": null,
       "right": null,
       "top": null,
       "visibility": null,
       "width": null
      }
     },
     "4edd43d209134740a48f24cc5de0e2c0": {
      "model_module": "@jupyter-widgets/controls",
      "model_module_version": "1.5.0",
      "model_name": "SliderStyleModel",
      "state": {
       "_model_module": "@jupyter-widgets/controls",
       "_model_module_version": "1.5.0",
       "_model_name": "SliderStyleModel",
       "_view_count": null,
       "_view_module": "@jupyter-widgets/base",
       "_view_module_version": "1.2.0",
       "_view_name": "StyleView",
       "description_width": "",
       "handle_color": null
      }
     },
     "554020578a004079af49e3fb3ed6285b": {
      "model_module": "@jupyter-widgets/base",
      "model_module_version": "1.2.0",
      "model_name": "LayoutModel",
      "state": {
       "_model_module": "@jupyter-widgets/base",
       "_model_module_version": "1.2.0",
       "_model_name": "LayoutModel",
       "_view_count": null,
       "_view_module": "@jupyter-widgets/base",
       "_view_module_version": "1.2.0",
       "_view_name": "LayoutView",
       "align_content": null,
       "align_items": null,
       "align_self": null,
       "border": null,
       "bottom": null,
       "display": null,
       "flex": null,
       "flex_flow": null,
       "grid_area": null,
       "grid_auto_columns": null,
       "grid_auto_flow": null,
       "grid_auto_rows": null,
       "grid_column": null,
       "grid_gap": null,
       "grid_row": null,
       "grid_template_areas": null,
       "grid_template_columns": null,
       "grid_template_rows": null,
       "height": null,
       "justify_content": null,
       "justify_items": null,
       "left": null,
       "margin": null,
       "max_height": null,
       "max_width": null,
       "min_height": null,
       "min_width": null,
       "object_fit": null,
       "object_position": null,
       "order": null,
       "overflow": null,
       "overflow_x": null,
       "overflow_y": null,
       "padding": null,
       "right": null,
       "top": null,
       "visibility": null,
       "width": null
      }
     },
     "5717ff4409334ce596df8b96b9543b2f": {
      "model_module": "@jupyter-widgets/controls",
      "model_module_version": "1.5.0",
      "model_name": "VBoxModel",
      "state": {
       "_dom_classes": [
        "widget-interact"
       ],
       "_model_module": "@jupyter-widgets/controls",
       "_model_module_version": "1.5.0",
       "_model_name": "VBoxModel",
       "_view_count": null,
       "_view_module": "@jupyter-widgets/controls",
       "_view_module_version": "1.5.0",
       "_view_name": "VBoxView",
       "box_style": "",
       "children": [
        "IPY_MODEL_88f1f3c5edbd45d88956e47588d64707",
        "IPY_MODEL_adf5f86d8b204268a8ad02ac26017cc7",
        "IPY_MODEL_d0ba70de08dc48cb832a979d236c975a",
        "IPY_MODEL_867d42c5ca5b4c12a931b61defb2561f"
       ],
       "layout": "IPY_MODEL_3324f16fccab4389a77e6ab889a27201"
      }
     },
     "64f459df32d647e1bf668e970256df88": {
      "model_module": "@jupyter-widgets/controls",
      "model_module_version": "1.5.0",
      "model_name": "DescriptionStyleModel",
      "state": {
       "_model_module": "@jupyter-widgets/controls",
       "_model_module_version": "1.5.0",
       "_model_name": "DescriptionStyleModel",
       "_view_count": null,
       "_view_module": "@jupyter-widgets/base",
       "_view_module_version": "1.2.0",
       "_view_name": "StyleView",
       "description_width": ""
      }
     },
     "716e205cca154cc4b50608e7c0eaf259": {
      "model_module": "@jupyter-widgets/controls",
      "model_module_version": "1.5.0",
      "model_name": "ProgressStyleModel",
      "state": {
       "_model_module": "@jupyter-widgets/controls",
       "_model_module_version": "1.5.0",
       "_model_name": "ProgressStyleModel",
       "_view_count": null,
       "_view_module": "@jupyter-widgets/base",
       "_view_module_version": "1.2.0",
       "_view_name": "StyleView",
       "bar_color": null,
       "description_width": ""
      }
     },
     "727dde473f904704a41bbd3974a39823": {
      "model_module": "@jupyter-widgets/controls",
      "model_module_version": "1.5.0",
      "model_name": "ProgressStyleModel",
      "state": {
       "_model_module": "@jupyter-widgets/controls",
       "_model_module_version": "1.5.0",
       "_model_name": "ProgressStyleModel",
       "_view_count": null,
       "_view_module": "@jupyter-widgets/base",
       "_view_module_version": "1.2.0",
       "_view_name": "StyleView",
       "bar_color": null,
       "description_width": ""
      }
     },
     "75d6d69845d44c21ac6106e7380eb294": {
      "model_module": "@jupyter-widgets/controls",
      "model_module_version": "1.5.0",
      "model_name": "DescriptionStyleModel",
      "state": {
       "_model_module": "@jupyter-widgets/controls",
       "_model_module_version": "1.5.0",
       "_model_name": "DescriptionStyleModel",
       "_view_count": null,
       "_view_module": "@jupyter-widgets/base",
       "_view_module_version": "1.2.0",
       "_view_name": "StyleView",
       "description_width": ""
      }
     },
     "76853a2122d4464997fb94ec7ce84465": {
      "model_module": "@jupyter-widgets/controls",
      "model_module_version": "1.5.0",
      "model_name": "SliderStyleModel",
      "state": {
       "_model_module": "@jupyter-widgets/controls",
       "_model_module_version": "1.5.0",
       "_model_name": "SliderStyleModel",
       "_view_count": null,
       "_view_module": "@jupyter-widgets/base",
       "_view_module_version": "1.2.0",
       "_view_name": "StyleView",
       "description_width": "",
       "handle_color": null
      }
     },
     "77603adaa30649f0a24ff8348b16139b": {
      "model_module": "@jupyter-widgets/base",
      "model_module_version": "1.2.0",
      "model_name": "LayoutModel",
      "state": {
       "_model_module": "@jupyter-widgets/base",
       "_model_module_version": "1.2.0",
       "_model_name": "LayoutModel",
       "_view_count": null,
       "_view_module": "@jupyter-widgets/base",
       "_view_module_version": "1.2.0",
       "_view_name": "LayoutView",
       "align_content": null,
       "align_items": null,
       "align_self": null,
       "border": null,
       "bottom": null,
       "display": null,
       "flex": null,
       "flex_flow": null,
       "grid_area": null,
       "grid_auto_columns": null,
       "grid_auto_flow": null,
       "grid_auto_rows": null,
       "grid_column": null,
       "grid_gap": null,
       "grid_row": null,
       "grid_template_areas": null,
       "grid_template_columns": null,
       "grid_template_rows": null,
       "height": null,
       "justify_content": null,
       "justify_items": null,
       "left": null,
       "margin": null,
       "max_height": null,
       "max_width": null,
       "min_height": null,
       "min_width": null,
       "object_fit": null,
       "object_position": null,
       "order": null,
       "overflow": null,
       "overflow_x": null,
       "overflow_y": null,
       "padding": null,
       "right": null,
       "top": null,
       "visibility": null,
       "width": null
      }
     },
     "7ded73ec60004ff69a46a73d733fa9db": {
      "model_module": "@jupyter-widgets/controls",
      "model_module_version": "1.5.0",
      "model_name": "DescriptionStyleModel",
      "state": {
       "_model_module": "@jupyter-widgets/controls",
       "_model_module_version": "1.5.0",
       "_model_name": "DescriptionStyleModel",
       "_view_count": null,
       "_view_module": "@jupyter-widgets/base",
       "_view_module_version": "1.2.0",
       "_view_name": "StyleView",
       "description_width": ""
      }
     },
     "7fbba039c534424c863194283c33cb67": {
      "model_module": "@jupyter-widgets/base",
      "model_module_version": "1.2.0",
      "model_name": "LayoutModel",
      "state": {
       "_model_module": "@jupyter-widgets/base",
       "_model_module_version": "1.2.0",
       "_model_name": "LayoutModel",
       "_view_count": null,
       "_view_module": "@jupyter-widgets/base",
       "_view_module_version": "1.2.0",
       "_view_name": "LayoutView",
       "align_content": null,
       "align_items": null,
       "align_self": null,
       "border": null,
       "bottom": null,
       "display": null,
       "flex": null,
       "flex_flow": null,
       "grid_area": null,
       "grid_auto_columns": null,
       "grid_auto_flow": null,
       "grid_auto_rows": null,
       "grid_column": null,
       "grid_gap": null,
       "grid_row": null,
       "grid_template_areas": null,
       "grid_template_columns": null,
       "grid_template_rows": null,
       "height": null,
       "justify_content": null,
       "justify_items": null,
       "left": null,
       "margin": null,
       "max_height": null,
       "max_width": null,
       "min_height": null,
       "min_width": null,
       "object_fit": null,
       "object_position": null,
       "order": null,
       "overflow": null,
       "overflow_x": null,
       "overflow_y": null,
       "padding": null,
       "right": null,
       "top": null,
       "visibility": null,
       "width": null
      }
     },
     "867d42c5ca5b4c12a931b61defb2561f": {
      "model_module": "@jupyter-widgets/output",
      "model_module_version": "1.0.0",
      "model_name": "OutputModel",
      "state": {
       "_dom_classes": [],
       "_model_module": "@jupyter-widgets/output",
       "_model_module_version": "1.0.0",
       "_model_name": "OutputModel",
       "_view_count": null,
       "_view_module": "@jupyter-widgets/output",
       "_view_module_version": "1.0.0",
       "_view_name": "OutputView",
       "layout": "IPY_MODEL_3c8e118a644247f482e87a703aad831c",
       "msg_id": "",
       "outputs": [
        {
         "data": {
          "image/png": "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\n",
          "text/plain": "<Figure size 648x648 with 4 Axes>"
         },
         "metadata": {
          "needs_background": "light"
         },
         "output_type": "display_data"
        }
       ]
      }
     },
     "8688d41ac90a4481893939b7ba1b0e17": {
      "model_module": "@jupyter-widgets/base",
      "model_module_version": "1.2.0",
      "model_name": "LayoutModel",
      "state": {
       "_model_module": "@jupyter-widgets/base",
       "_model_module_version": "1.2.0",
       "_model_name": "LayoutModel",
       "_view_count": null,
       "_view_module": "@jupyter-widgets/base",
       "_view_module_version": "1.2.0",
       "_view_name": "LayoutView",
       "align_content": null,
       "align_items": null,
       "align_self": null,
       "border": null,
       "bottom": null,
       "display": null,
       "flex": null,
       "flex_flow": null,
       "grid_area": null,
       "grid_auto_columns": null,
       "grid_auto_flow": null,
       "grid_auto_rows": null,
       "grid_column": null,
       "grid_gap": null,
       "grid_row": null,
       "grid_template_areas": null,
       "grid_template_columns": null,
       "grid_template_rows": null,
       "height": null,
       "justify_content": null,
       "justify_items": null,
       "left": null,
       "margin": null,
       "max_height": null,
       "max_width": null,
       "min_height": null,
       "min_width": null,
       "object_fit": null,
       "object_position": null,
       "order": null,
       "overflow": null,
       "overflow_x": null,
       "overflow_y": null,
       "padding": null,
       "right": null,
       "top": null,
       "visibility": null,
       "width": null
      }
     },
     "88f1f3c5edbd45d88956e47588d64707": {
      "model_module": "@jupyter-widgets/controls",
      "model_module_version": "1.5.0",
      "model_name": "IntSliderModel",
      "state": {
       "_dom_classes": [],
       "_model_module": "@jupyter-widgets/controls",
       "_model_module_version": "1.5.0",
       "_model_name": "IntSliderModel",
       "_view_count": null,
       "_view_module": "@jupyter-widgets/controls",
       "_view_module_version": "1.5.0",
       "_view_name": "IntSliderView",
       "continuous_update": true,
       "description": "x",
       "description_tooltip": null,
       "disabled": false,
       "layout": "IPY_MODEL_d07d4bc7c5754b7fb27dd6b398fb75a5",
       "max": 360,
       "min": 0,
       "orientation": "horizontal",
       "readout": true,
       "readout_format": "d",
       "step": 5,
       "style": "IPY_MODEL_d39cc167dd1147fdabdd22505b8e953e",
       "value": 180
      }
     },
     "8bffd6f5814e42dea32ced9cb5bb47a2": {
      "model_module": "@jupyter-widgets/controls",
      "model_module_version": "1.5.0",
      "model_name": "HTMLModel",
      "state": {
       "_dom_classes": [],
       "_model_module": "@jupyter-widgets/controls",
       "_model_module_version": "1.5.0",
       "_model_name": "HTMLModel",
       "_view_count": null,
       "_view_module": "@jupyter-widgets/controls",
       "_view_module_version": "1.5.0",
       "_view_name": "HTMLView",
       "description": "",
       "description_tooltip": null,
       "layout": "IPY_MODEL_213f0bbcbc784a15801b91a9fb833b4e",
       "placeholder": "​",
       "style": "IPY_MODEL_64f459df32d647e1bf668e970256df88",
       "value": " 274/274 [00:00&lt;00:00,  8.91it/s]"
      }
     },
     "a1b668de953c49aaa678dc0b1a2c34f1": {
      "model_module": "@jupyter-widgets/base",
      "model_module_version": "1.2.0",
      "model_name": "LayoutModel",
      "state": {
       "_model_module": "@jupyter-widgets/base",
       "_model_module_version": "1.2.0",
       "_model_name": "LayoutModel",
       "_view_count": null,
       "_view_module": "@jupyter-widgets/base",
       "_view_module_version": "1.2.0",
       "_view_name": "LayoutView",
       "align_content": null,
       "align_items": null,
       "align_self": null,
       "border": null,
       "bottom": null,
       "display": null,
       "flex": null,
       "flex_flow": null,
       "grid_area": null,
       "grid_auto_columns": null,
       "grid_auto_flow": null,
       "grid_auto_rows": null,
       "grid_column": null,
       "grid_gap": null,
       "grid_row": null,
       "grid_template_areas": null,
       "grid_template_columns": null,
       "grid_template_rows": null,
       "height": null,
       "justify_content": null,
       "justify_items": null,
       "left": null,
       "margin": null,
       "max_height": null,
       "max_width": null,
       "min_height": null,
       "min_width": null,
       "object_fit": null,
       "object_position": null,
       "order": null,
       "overflow": null,
       "overflow_x": null,
       "overflow_y": null,
       "padding": null,
       "right": null,
       "top": null,
       "visibility": null,
       "width": null
      }
     },
     "adf5f86d8b204268a8ad02ac26017cc7": {
      "model_module": "@jupyter-widgets/controls",
      "model_module_version": "1.5.0",
      "model_name": "IntSliderModel",
      "state": {
       "_dom_classes": [],
       "_model_module": "@jupyter-widgets/controls",
       "_model_module_version": "1.5.0",
       "_model_name": "IntSliderModel",
       "_view_count": null,
       "_view_module": "@jupyter-widgets/controls",
       "_view_module_version": "1.5.0",
       "_view_name": "IntSliderView",
       "continuous_update": true,
       "description": "y",
       "description_tooltip": null,
       "disabled": false,
       "layout": "IPY_MODEL_a1b668de953c49aaa678dc0b1a2c34f1",
       "max": 310,
       "min": 0,
       "orientation": "horizontal",
       "readout": true,
       "readout_format": "d",
       "step": 5,
       "style": "IPY_MODEL_4edd43d209134740a48f24cc5de0e2c0",
       "value": 155
      }
     },
     "d07d4bc7c5754b7fb27dd6b398fb75a5": {
      "model_module": "@jupyter-widgets/base",
      "model_module_version": "1.2.0",
      "model_name": "LayoutModel",
      "state": {
       "_model_module": "@jupyter-widgets/base",
       "_model_module_version": "1.2.0",
       "_model_name": "LayoutModel",
       "_view_count": null,
       "_view_module": "@jupyter-widgets/base",
       "_view_module_version": "1.2.0",
       "_view_name": "LayoutView",
       "align_content": null,
       "align_items": null,
       "align_self": null,
       "border": null,
       "bottom": null,
       "display": null,
       "flex": null,
       "flex_flow": null,
       "grid_area": null,
       "grid_auto_columns": null,
       "grid_auto_flow": null,
       "grid_auto_rows": null,
       "grid_column": null,
       "grid_gap": null,
       "grid_row": null,
       "grid_template_areas": null,
       "grid_template_columns": null,
       "grid_template_rows": null,
       "height": null,
       "justify_content": null,
       "justify_items": null,
       "left": null,
       "margin": null,
       "max_height": null,
       "max_width": null,
       "min_height": null,
       "min_width": null,
       "object_fit": null,
       "object_position": null,
       "order": null,
       "overflow": null,
       "overflow_x": null,
       "overflow_y": null,
       "padding": null,
       "right": null,
       "top": null,
       "visibility": null,
       "width": null
      }
     },
     "d0ba70de08dc48cb832a979d236c975a": {
      "model_module": "@jupyter-widgets/controls",
      "model_module_version": "1.5.0",
      "model_name": "IntSliderModel",
      "state": {
       "_dom_classes": [],
       "_model_module": "@jupyter-widgets/controls",
       "_model_module_version": "1.5.0",
       "_model_name": "IntSliderModel",
       "_view_count": null,
       "_view_module": "@jupyter-widgets/controls",
       "_view_module_version": "1.5.0",
       "_view_name": "IntSliderView",
       "continuous_update": true,
       "description": "z",
       "description_tooltip": null,
       "disabled": false,
       "layout": "IPY_MODEL_f1ccaa450c71479cb0ca31eb2980d949",
       "max": 144,
       "min": 0,
       "orientation": "horizontal",
       "readout": true,
       "readout_format": "d",
       "step": 5,
       "style": "IPY_MODEL_76853a2122d4464997fb94ec7ce84465",
       "value": 72
      }
     },
     "d39cc167dd1147fdabdd22505b8e953e": {
      "model_module": "@jupyter-widgets/controls",
      "model_module_version": "1.5.0",
      "model_name": "SliderStyleModel",
      "state": {
       "_model_module": "@jupyter-widgets/controls",
       "_model_module_version": "1.5.0",
       "_model_name": "SliderStyleModel",
       "_view_count": null,
       "_view_module": "@jupyter-widgets/base",
       "_view_module_version": "1.2.0",
       "_view_name": "StyleView",
       "description_width": "",
       "handle_color": null
      }
     },
     "df7fc0002533495da53f27605ca612ce": {
      "model_module": "@jupyter-widgets/controls",
      "model_module_version": "1.5.0",
      "model_name": "DescriptionStyleModel",
      "state": {
       "_model_module": "@jupyter-widgets/controls",
       "_model_module_version": "1.5.0",
       "_model_name": "DescriptionStyleModel",
       "_view_count": null,
       "_view_module": "@jupyter-widgets/base",
       "_view_module_version": "1.2.0",
       "_view_name": "StyleView",
       "description_width": ""
      }
     },
     "eddc7ab8fc844028a285507ccca1695f": {
      "model_module": "@jupyter-widgets/controls",
      "model_module_version": "1.5.0",
      "model_name": "FloatProgressModel",
      "state": {
       "_dom_classes": [],
       "_model_module": "@jupyter-widgets/controls",
       "_model_module_version": "1.5.0",
       "_model_name": "FloatProgressModel",
       "_view_count": null,
       "_view_module": "@jupyter-widgets/controls",
       "_view_module_version": "1.5.0",
       "_view_name": "ProgressView",
       "bar_style": "success",
       "description": "",
       "description_tooltip": null,
       "layout": "IPY_MODEL_24fc8c1b04b5425da5bc2e16fa1f585a",
       "max": 274.0,
       "min": 0.0,
       "orientation": "horizontal",
       "style": "IPY_MODEL_727dde473f904704a41bbd3974a39823",
       "value": 274.0
      }
     },
     "ef71bd0154d64c9a9cc1b17502b3646f": {
      "model_module": "@jupyter-widgets/controls",
      "model_module_version": "1.5.0",
      "model_name": "HTMLModel",
      "state": {
       "_dom_classes": [],
       "_model_module": "@jupyter-widgets/controls",
       "_model_module_version": "1.5.0",
       "_model_name": "HTMLModel",
       "_view_count": null,
       "_view_module": "@jupyter-widgets/controls",
       "_view_module_version": "1.5.0",
       "_view_name": "HTMLView",
       "description": "",
       "description_tooltip": null,
       "layout": "IPY_MODEL_3c312764f10a4c7d9402412bd0ace7b5",
       "placeholder": "​",
       "style": "IPY_MODEL_75d6d69845d44c21ac6106e7380eb294",
       "value": " 38496/38496 [00:44&lt;00:00, 857.40it/s]"
      }
     },
     "f1ccaa450c71479cb0ca31eb2980d949": {
      "model_module": "@jupyter-widgets/base",
      "model_module_version": "1.2.0",
      "model_name": "LayoutModel",
      "state": {
       "_model_module": "@jupyter-widgets/base",
       "_model_module_version": "1.2.0",
       "_model_name": "LayoutModel",
       "_view_count": null,
       "_view_module": "@jupyter-widgets/base",
       "_view_module_version": "1.2.0",
       "_view_name": "LayoutView",
       "align_content": null,
       "align_items": null,
       "align_self": null,
       "border": null,
       "bottom": null,
       "display": null,
       "flex": null,
       "flex_flow": null,
       "grid_area": null,
       "grid_auto_columns": null,
       "grid_auto_flow": null,
       "grid_auto_rows": null,
       "grid_column": null,
       "grid_gap": null,
       "grid_row": null,
       "grid_template_areas": null,
       "grid_template_columns": null,
       "grid_template_rows": null,
       "height": null,
       "justify_content": null,
       "justify_items": null,
       "left": null,
       "margin": null,
       "max_height": null,
       "max_width": null,
       "min_height": null,
       "min_width": null,
       "object_fit": null,
       "object_position": null,
       "order": null,
       "overflow": null,
       "overflow_x": null,
       "overflow_y": null,
       "padding": null,
       "right": null,
       "top": null,
       "visibility": null,
       "width": null
      }
     },
     "fa1901da267944e5b871ed85310cdd75": {
      "model_module": "@jupyter-widgets/controls",
      "model_module_version": "1.5.0",
      "model_name": "HTMLModel",
      "state": {
       "_dom_classes": [],
       "_model_module": "@jupyter-widgets/controls",
       "_model_module_version": "1.5.0",
       "_model_name": "HTMLModel",
       "_view_count": null,
       "_view_module": "@jupyter-widgets/controls",
       "_view_module_version": "1.5.0",
       "_view_name": "HTMLView",
       "description": "",
       "description_tooltip": null,
       "layout": "IPY_MODEL_2f3f45350ae940c4b0f6427abbafbfbf",
       "placeholder": "​",
       "style": "IPY_MODEL_df7fc0002533495da53f27605ca612ce",
       "value": "100%"
      }
     },
     "fcb679c69c5946b4b39ffbede4acc1e4": {
      "model_module": "@jupyter-widgets/controls",
      "model_module_version": "1.5.0",
      "model_name": "FloatProgressModel",
      "state": {
       "_dom_classes": [],
       "_model_module": "@jupyter-widgets/controls",
       "_model_module_version": "1.5.0",
       "_model_name": "FloatProgressModel",
       "_view_count": null,
       "_view_module": "@jupyter-widgets/controls",
       "_view_module_version": "1.5.0",
       "_view_name": "ProgressView",
       "bar_style": "success",
       "description": "",
       "description_tooltip": null,
       "layout": "IPY_MODEL_8688d41ac90a4481893939b7ba1b0e17",
       "max": 38496.0,
       "min": 0.0,
       "orientation": "horizontal",
       "style": "IPY_MODEL_716e205cca154cc4b50608e7c0eaf259",
       "value": 38496.0
      }
     }
    },
    "version_major": 2,
    "version_minor": 0
   }
  }
 },
 "nbformat": 4,
 "nbformat_minor": 5
}
